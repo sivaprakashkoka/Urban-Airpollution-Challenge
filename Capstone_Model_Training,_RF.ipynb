{
  "cells": [
    {
      "cell_type": "markdown",
      "metadata": {
        "id": "view-in-github",
        "colab_type": "text"
      },
      "source": [
        "<a href=\"https://colab.research.google.com/github/sivaprakashkoka/Urban-Airpollution-Challenge/blob/main/Capstone_Model_Training%2C_RF.ipynb\" target=\"_parent\"><img src=\"https://colab.research.google.com/assets/colab-badge.svg\" alt=\"Open In Colab\"/></a>"
      ]
    },
    {
      "cell_type": "code",
      "execution_count": null,
      "metadata": {
        "id": "NxYVDhKCeS40"
      },
      "outputs": [],
      "source": [
        "import pandas as pd\n",
        "import numpy as np\n",
        "import matplotlib.pyplot as plt\n",
        "import seaborn as sns"
      ]
    },
    {
      "cell_type": "code",
      "execution_count": null,
      "metadata": {
        "id": "vq1rfgQfe8wE"
      },
      "outputs": [],
      "source": [
        "data = pd.read_csv(\"completed_train.csv\")"
      ]
    },
    {
      "cell_type": "code",
      "execution_count": null,
      "metadata": {
        "colab": {
          "base_uri": "https://localhost:8080/",
          "height": 490
        },
        "id": "568-BIsefGYu",
        "outputId": "2c8304b7-7e53-42c7-eae7-5026a8f67b56"
      },
      "outputs": [
        {
          "data": {
            "text/html": [
              "\n",
              "  <div id=\"df-25dbbbb4-eaff-4901-a964-31c4da4495c9\">\n",
              "    <div class=\"colab-df-container\">\n",
              "      <div>\n",
              "<style scoped>\n",
              "    .dataframe tbody tr th:only-of-type {\n",
              "        vertical-align: middle;\n",
              "    }\n",
              "\n",
              "    .dataframe tbody tr th {\n",
              "        vertical-align: top;\n",
              "    }\n",
              "\n",
              "    .dataframe thead th {\n",
              "        text-align: right;\n",
              "    }\n",
              "</style>\n",
              "<table border=\"1\" class=\"dataframe\">\n",
              "  <thead>\n",
              "    <tr style=\"text-align: right;\">\n",
              "      <th></th>\n",
              "      <th>Place_ID X Date</th>\n",
              "      <th>Date</th>\n",
              "      <th>Place_ID</th>\n",
              "      <th>target</th>\n",
              "      <th>target_min</th>\n",
              "      <th>target_max</th>\n",
              "      <th>target_variance</th>\n",
              "      <th>target_count</th>\n",
              "      <th>precipitable_water_entire_atmosphere</th>\n",
              "      <th>relative_humidity_2m_above_ground</th>\n",
              "      <th>...</th>\n",
              "      <th>L3_CLOUD_cloud_top_pressure</th>\n",
              "      <th>L3_CLOUD_surface_albedo</th>\n",
              "      <th>L3_AER_AI_absorbing_aerosol_index</th>\n",
              "      <th>L3_AER_AI_sensor_altitude</th>\n",
              "      <th>L3_SO2_SO2_column_number_density</th>\n",
              "      <th>L3_SO2_SO2_column_number_density_amf</th>\n",
              "      <th>L3_SO2_SO2_slant_column_number_density</th>\n",
              "      <th>L3_SO2_absorbing_aerosol_index</th>\n",
              "      <th>L3_SO2_cloud_fraction</th>\n",
              "      <th>Month</th>\n",
              "    </tr>\n",
              "  </thead>\n",
              "  <tbody>\n",
              "    <tr>\n",
              "      <th>0</th>\n",
              "      <td>010Q650 X 2020-01-02</td>\n",
              "      <td>2020-01-02</td>\n",
              "      <td>010Q650</td>\n",
              "      <td>38.0</td>\n",
              "      <td>23.0</td>\n",
              "      <td>53.0</td>\n",
              "      <td>769.50</td>\n",
              "      <td>92</td>\n",
              "      <td>11.000000</td>\n",
              "      <td>60.200001</td>\n",
              "      <td>...</td>\n",
              "      <td>72204.276756</td>\n",
              "      <td>0.252417</td>\n",
              "      <td>-1.231330</td>\n",
              "      <td>840209.874619</td>\n",
              "      <td>-0.000127</td>\n",
              "      <td>0.312521</td>\n",
              "      <td>-0.000040</td>\n",
              "      <td>-1.861476</td>\n",
              "      <td>0.000000</td>\n",
              "      <td>1</td>\n",
              "    </tr>\n",
              "    <tr>\n",
              "      <th>1</th>\n",
              "      <td>010Q650 X 2020-01-03</td>\n",
              "      <td>2020-01-03</td>\n",
              "      <td>010Q650</td>\n",
              "      <td>39.0</td>\n",
              "      <td>25.0</td>\n",
              "      <td>63.0</td>\n",
              "      <td>1319.85</td>\n",
              "      <td>91</td>\n",
              "      <td>14.600000</td>\n",
              "      <td>48.799999</td>\n",
              "      <td>...</td>\n",
              "      <td>99353.672374</td>\n",
              "      <td>0.315403</td>\n",
              "      <td>-1.082553</td>\n",
              "      <td>840772.941995</td>\n",
              "      <td>0.000150</td>\n",
              "      <td>0.433957</td>\n",
              "      <td>0.000050</td>\n",
              "      <td>-1.452612</td>\n",
              "      <td>0.059433</td>\n",
              "      <td>1</td>\n",
              "    </tr>\n",
              "    <tr>\n",
              "      <th>2</th>\n",
              "      <td>010Q650 X 2020-01-04</td>\n",
              "      <td>2020-01-04</td>\n",
              "      <td>010Q650</td>\n",
              "      <td>24.0</td>\n",
              "      <td>8.0</td>\n",
              "      <td>56.0</td>\n",
              "      <td>1181.96</td>\n",
              "      <td>96</td>\n",
              "      <td>16.400000</td>\n",
              "      <td>33.400002</td>\n",
              "      <td>...</td>\n",
              "      <td>95671.383578</td>\n",
              "      <td>0.307463</td>\n",
              "      <td>-1.001241</td>\n",
              "      <td>841410.713456</td>\n",
              "      <td>0.000150</td>\n",
              "      <td>0.356925</td>\n",
              "      <td>0.000053</td>\n",
              "      <td>-1.572950</td>\n",
              "      <td>0.082063</td>\n",
              "      <td>1</td>\n",
              "    </tr>\n",
              "    <tr>\n",
              "      <th>3</th>\n",
              "      <td>010Q650 X 2020-01-05</td>\n",
              "      <td>2020-01-05</td>\n",
              "      <td>010Q650</td>\n",
              "      <td>49.0</td>\n",
              "      <td>10.0</td>\n",
              "      <td>55.0</td>\n",
              "      <td>1113.67</td>\n",
              "      <td>96</td>\n",
              "      <td>6.911948</td>\n",
              "      <td>21.300001</td>\n",
              "      <td>...</td>\n",
              "      <td>96232.486418</td>\n",
              "      <td>0.279637</td>\n",
              "      <td>-0.777023</td>\n",
              "      <td>841103.242368</td>\n",
              "      <td>0.000227</td>\n",
              "      <td>0.584522</td>\n",
              "      <td>0.000110</td>\n",
              "      <td>-1.239317</td>\n",
              "      <td>0.121261</td>\n",
              "      <td>1</td>\n",
              "    </tr>\n",
              "    <tr>\n",
              "      <th>4</th>\n",
              "      <td>010Q650 X 2020-01-06</td>\n",
              "      <td>2020-01-06</td>\n",
              "      <td>010Q650</td>\n",
              "      <td>21.0</td>\n",
              "      <td>9.0</td>\n",
              "      <td>52.0</td>\n",
              "      <td>1164.82</td>\n",
              "      <td>95</td>\n",
              "      <td>13.900001</td>\n",
              "      <td>44.700001</td>\n",
              "      <td>...</td>\n",
              "      <td>52561.523079</td>\n",
              "      <td>0.238241</td>\n",
              "      <td>0.366324</td>\n",
              "      <td>840763.055499</td>\n",
              "      <td>0.000390</td>\n",
              "      <td>0.408047</td>\n",
              "      <td>0.000159</td>\n",
              "      <td>0.202489</td>\n",
              "      <td>0.037919</td>\n",
              "      <td>1</td>\n",
              "    </tr>\n",
              "  </tbody>\n",
              "</table>\n",
              "<p>5 rows × 47 columns</p>\n",
              "</div>\n",
              "      <button class=\"colab-df-convert\" onclick=\"convertToInteractive('df-25dbbbb4-eaff-4901-a964-31c4da4495c9')\"\n",
              "              title=\"Convert this dataframe to an interactive table.\"\n",
              "              style=\"display:none;\">\n",
              "        \n",
              "  <svg xmlns=\"http://www.w3.org/2000/svg\" height=\"24px\"viewBox=\"0 0 24 24\"\n",
              "       width=\"24px\">\n",
              "    <path d=\"M0 0h24v24H0V0z\" fill=\"none\"/>\n",
              "    <path d=\"M18.56 5.44l.94 2.06.94-2.06 2.06-.94-2.06-.94-.94-2.06-.94 2.06-2.06.94zm-11 1L8.5 8.5l.94-2.06 2.06-.94-2.06-.94L8.5 2.5l-.94 2.06-2.06.94zm10 10l.94 2.06.94-2.06 2.06-.94-2.06-.94-.94-2.06-.94 2.06-2.06.94z\"/><path d=\"M17.41 7.96l-1.37-1.37c-.4-.4-.92-.59-1.43-.59-.52 0-1.04.2-1.43.59L10.3 9.45l-7.72 7.72c-.78.78-.78 2.05 0 2.83L4 21.41c.39.39.9.59 1.41.59.51 0 1.02-.2 1.41-.59l7.78-7.78 2.81-2.81c.8-.78.8-2.07 0-2.86zM5.41 20L4 18.59l7.72-7.72 1.47 1.35L5.41 20z\"/>\n",
              "  </svg>\n",
              "      </button>\n",
              "      \n",
              "  <style>\n",
              "    .colab-df-container {\n",
              "      display:flex;\n",
              "      flex-wrap:wrap;\n",
              "      gap: 12px;\n",
              "    }\n",
              "\n",
              "    .colab-df-convert {\n",
              "      background-color: #E8F0FE;\n",
              "      border: none;\n",
              "      border-radius: 50%;\n",
              "      cursor: pointer;\n",
              "      display: none;\n",
              "      fill: #1967D2;\n",
              "      height: 32px;\n",
              "      padding: 0 0 0 0;\n",
              "      width: 32px;\n",
              "    }\n",
              "\n",
              "    .colab-df-convert:hover {\n",
              "      background-color: #E2EBFA;\n",
              "      box-shadow: 0px 1px 2px rgba(60, 64, 67, 0.3), 0px 1px 3px 1px rgba(60, 64, 67, 0.15);\n",
              "      fill: #174EA6;\n",
              "    }\n",
              "\n",
              "    [theme=dark] .colab-df-convert {\n",
              "      background-color: #3B4455;\n",
              "      fill: #D2E3FC;\n",
              "    }\n",
              "\n",
              "    [theme=dark] .colab-df-convert:hover {\n",
              "      background-color: #434B5C;\n",
              "      box-shadow: 0px 1px 3px 1px rgba(0, 0, 0, 0.15);\n",
              "      filter: drop-shadow(0px 1px 2px rgba(0, 0, 0, 0.3));\n",
              "      fill: #FFFFFF;\n",
              "    }\n",
              "  </style>\n",
              "\n",
              "      <script>\n",
              "        const buttonEl =\n",
              "          document.querySelector('#df-25dbbbb4-eaff-4901-a964-31c4da4495c9 button.colab-df-convert');\n",
              "        buttonEl.style.display =\n",
              "          google.colab.kernel.accessAllowed ? 'block' : 'none';\n",
              "\n",
              "        async function convertToInteractive(key) {\n",
              "          const element = document.querySelector('#df-25dbbbb4-eaff-4901-a964-31c4da4495c9');\n",
              "          const dataTable =\n",
              "            await google.colab.kernel.invokeFunction('convertToInteractive',\n",
              "                                                     [key], {});\n",
              "          if (!dataTable) return;\n",
              "\n",
              "          const docLinkHtml = 'Like what you see? Visit the ' +\n",
              "            '<a target=\"_blank\" href=https://colab.research.google.com/notebooks/data_table.ipynb>data table notebook</a>'\n",
              "            + ' to learn more about interactive tables.';\n",
              "          element.innerHTML = '';\n",
              "          dataTable['output_type'] = 'display_data';\n",
              "          await google.colab.output.renderOutput(dataTable, element);\n",
              "          const docLink = document.createElement('div');\n",
              "          docLink.innerHTML = docLinkHtml;\n",
              "          element.appendChild(docLink);\n",
              "        }\n",
              "      </script>\n",
              "    </div>\n",
              "  </div>\n",
              "  "
            ],
            "text/plain": [
              "        Place_ID X Date        Date Place_ID  target  target_min  target_max  \\\n",
              "0  010Q650 X 2020-01-02  2020-01-02  010Q650    38.0        23.0        53.0   \n",
              "1  010Q650 X 2020-01-03  2020-01-03  010Q650    39.0        25.0        63.0   \n",
              "2  010Q650 X 2020-01-04  2020-01-04  010Q650    24.0         8.0        56.0   \n",
              "3  010Q650 X 2020-01-05  2020-01-05  010Q650    49.0        10.0        55.0   \n",
              "4  010Q650 X 2020-01-06  2020-01-06  010Q650    21.0         9.0        52.0   \n",
              "\n",
              "   target_variance  target_count  precipitable_water_entire_atmosphere  \\\n",
              "0           769.50            92                             11.000000   \n",
              "1          1319.85            91                             14.600000   \n",
              "2          1181.96            96                             16.400000   \n",
              "3          1113.67            96                              6.911948   \n",
              "4          1164.82            95                             13.900001   \n",
              "\n",
              "   relative_humidity_2m_above_ground  ...  L3_CLOUD_cloud_top_pressure  \\\n",
              "0                          60.200001  ...                 72204.276756   \n",
              "1                          48.799999  ...                 99353.672374   \n",
              "2                          33.400002  ...                 95671.383578   \n",
              "3                          21.300001  ...                 96232.486418   \n",
              "4                          44.700001  ...                 52561.523079   \n",
              "\n",
              "   L3_CLOUD_surface_albedo  L3_AER_AI_absorbing_aerosol_index  \\\n",
              "0                 0.252417                          -1.231330   \n",
              "1                 0.315403                          -1.082553   \n",
              "2                 0.307463                          -1.001241   \n",
              "3                 0.279637                          -0.777023   \n",
              "4                 0.238241                           0.366324   \n",
              "\n",
              "   L3_AER_AI_sensor_altitude  L3_SO2_SO2_column_number_density  \\\n",
              "0              840209.874619                         -0.000127   \n",
              "1              840772.941995                          0.000150   \n",
              "2              841410.713456                          0.000150   \n",
              "3              841103.242368                          0.000227   \n",
              "4              840763.055499                          0.000390   \n",
              "\n",
              "   L3_SO2_SO2_column_number_density_amf  \\\n",
              "0                              0.312521   \n",
              "1                              0.433957   \n",
              "2                              0.356925   \n",
              "3                              0.584522   \n",
              "4                              0.408047   \n",
              "\n",
              "   L3_SO2_SO2_slant_column_number_density  L3_SO2_absorbing_aerosol_index  \\\n",
              "0                               -0.000040                       -1.861476   \n",
              "1                                0.000050                       -1.452612   \n",
              "2                                0.000053                       -1.572950   \n",
              "3                                0.000110                       -1.239317   \n",
              "4                                0.000159                        0.202489   \n",
              "\n",
              "   L3_SO2_cloud_fraction  Month  \n",
              "0               0.000000      1  \n",
              "1               0.059433      1  \n",
              "2               0.082063      1  \n",
              "3               0.121261      1  \n",
              "4               0.037919      1  \n",
              "\n",
              "[5 rows x 47 columns]"
            ]
          },
          "execution_count": 3,
          "metadata": {},
          "output_type": "execute_result"
        }
      ],
      "source": [
        "data.head()"
      ]
    },
    {
      "cell_type": "code",
      "execution_count": null,
      "metadata": {
        "colab": {
          "base_uri": "https://localhost:8080/"
        },
        "id": "N0YranRufMI_",
        "outputId": "cc7a49c8-47a9-42d7-8c16-509db2e75f6b"
      },
      "outputs": [
        {
          "name": "stdout",
          "output_type": "stream",
          "text": [
            "<class 'pandas.core.frame.DataFrame'>\n",
            "RangeIndex: 30554 entries, 0 to 30553\n",
            "Data columns (total 47 columns):\n",
            " #   Column                                               Non-Null Count  Dtype  \n",
            "---  ------                                               --------------  -----  \n",
            " 0   Place_ID X Date                                      30554 non-null  object \n",
            " 1   Date                                                 30554 non-null  object \n",
            " 2   Place_ID                                             30554 non-null  object \n",
            " 3   target                                               30554 non-null  float64\n",
            " 4   target_min                                           30554 non-null  float64\n",
            " 5   target_max                                           30554 non-null  float64\n",
            " 6   target_variance                                      30554 non-null  float64\n",
            " 7   target_count                                         30554 non-null  int64  \n",
            " 8   precipitable_water_entire_atmosphere                 30554 non-null  float64\n",
            " 9   relative_humidity_2m_above_ground                    30554 non-null  float64\n",
            " 10  specific_humidity_2m_above_ground                    30554 non-null  float64\n",
            " 11  temperature_2m_above_ground                          30554 non-null  float64\n",
            " 12  u_component_of_wind_10m_above_ground                 30554 non-null  float64\n",
            " 13  v_component_of_wind_10m_above_ground                 30554 non-null  float64\n",
            " 14  L3_NO2_NO2_column_number_density                     30554 non-null  float64\n",
            " 15  L3_NO2_NO2_slant_column_number_density               30554 non-null  float64\n",
            " 16  L3_NO2_absorbing_aerosol_index                       30554 non-null  float64\n",
            " 17  L3_NO2_cloud_fraction                                30554 non-null  float64\n",
            " 18  L3_NO2_stratospheric_NO2_column_number_density       30554 non-null  float64\n",
            " 19  L3_NO2_tropopause_pressure                           30554 non-null  float64\n",
            " 20  L3_NO2_tropospheric_NO2_column_number_density        30554 non-null  float64\n",
            " 21  L3_O3_O3_column_number_density                       30554 non-null  float64\n",
            " 22  L3_O3_O3_effective_temperature                       30554 non-null  float64\n",
            " 23  L3_O3_cloud_fraction                                 30554 non-null  float64\n",
            " 24  L3_CO_CO_column_number_density                       30554 non-null  float64\n",
            " 25  L3_CO_H2O_column_number_density                      30554 non-null  float64\n",
            " 26  L3_CO_cloud_height                                   30554 non-null  float64\n",
            " 27  L3_CO_sensor_altitude                                30554 non-null  float64\n",
            " 28  L3_HCHO_HCHO_slant_column_number_density             30554 non-null  float64\n",
            " 29  L3_HCHO_cloud_fraction                               30554 non-null  float64\n",
            " 30  L3_HCHO_tropospheric_HCHO_column_number_density      30554 non-null  float64\n",
            " 31  L3_HCHO_tropospheric_HCHO_column_number_density_amf  30554 non-null  float64\n",
            " 32  L3_CLOUD_cloud_base_height                           30554 non-null  float64\n",
            " 33  L3_CLOUD_cloud_base_pressure                         30554 non-null  float64\n",
            " 34  L3_CLOUD_cloud_fraction                              30554 non-null  float64\n",
            " 35  L3_CLOUD_cloud_optical_depth                         30554 non-null  float64\n",
            " 36  L3_CLOUD_cloud_top_height                            30554 non-null  float64\n",
            " 37  L3_CLOUD_cloud_top_pressure                          30554 non-null  float64\n",
            " 38  L3_CLOUD_surface_albedo                              30554 non-null  float64\n",
            " 39  L3_AER_AI_absorbing_aerosol_index                    30554 non-null  float64\n",
            " 40  L3_AER_AI_sensor_altitude                            30554 non-null  float64\n",
            " 41  L3_SO2_SO2_column_number_density                     30554 non-null  float64\n",
            " 42  L3_SO2_SO2_column_number_density_amf                 30554 non-null  float64\n",
            " 43  L3_SO2_SO2_slant_column_number_density               30554 non-null  float64\n",
            " 44  L3_SO2_absorbing_aerosol_index                       30554 non-null  float64\n",
            " 45  L3_SO2_cloud_fraction                                30554 non-null  float64\n",
            " 46  Month                                                30554 non-null  int64  \n",
            "dtypes: float64(42), int64(2), object(3)\n",
            "memory usage: 11.0+ MB\n"
          ]
        }
      ],
      "source": [
        "data.info()"
      ]
    },
    {
      "cell_type": "code",
      "execution_count": null,
      "metadata": {
        "id": "n-f_NX1UfQHO"
      },
      "outputs": [],
      "source": [
        "y = data['target']\n",
        "X = data.drop(['target', 'Place_ID X Date', 'Date', 'Place_ID'], axis = 1)"
      ]
    },
    {
      "cell_type": "code",
      "execution_count": null,
      "metadata": {
        "id": "s5LHTtPsfl3S"
      },
      "outputs": [],
      "source": [
        "from sklearn.model_selection import train_test_split\n",
        "X_train, X_test, y_train, y_test = train_test_split(X, y, test_size=0.2, random_state=42)"
      ]
    },
    {
      "cell_type": "code",
      "execution_count": null,
      "metadata": {
        "id": "Wn8_QFYYf1v5"
      },
      "outputs": [],
      "source": [
        "from sklearn.ensemble import RandomForestRegressor\n",
        "from sklearn.metrics import mean_absolute_error, mean_squared_error, r2_score"
      ]
    },
    {
      "cell_type": "code",
      "execution_count": null,
      "metadata": {
        "colab": {
          "base_uri": "https://localhost:8080/",
          "height": 74
        },
        "id": "l5tq8NN9g6-V",
        "outputId": "97073bd4-e7b0-4a7a-ba4e-3725241051ef"
      },
      "outputs": [
        {
          "data": {
            "text/html": [
              "<style>#sk-container-id-1 {color: black;background-color: white;}#sk-container-id-1 pre{padding: 0;}#sk-container-id-1 div.sk-toggleable {background-color: white;}#sk-container-id-1 label.sk-toggleable__label {cursor: pointer;display: block;width: 100%;margin-bottom: 0;padding: 0.3em;box-sizing: border-box;text-align: center;}#sk-container-id-1 label.sk-toggleable__label-arrow:before {content: \"▸\";float: left;margin-right: 0.25em;color: #696969;}#sk-container-id-1 label.sk-toggleable__label-arrow:hover:before {color: black;}#sk-container-id-1 div.sk-estimator:hover label.sk-toggleable__label-arrow:before {color: black;}#sk-container-id-1 div.sk-toggleable__content {max-height: 0;max-width: 0;overflow: hidden;text-align: left;background-color: #f0f8ff;}#sk-container-id-1 div.sk-toggleable__content pre {margin: 0.2em;color: black;border-radius: 0.25em;background-color: #f0f8ff;}#sk-container-id-1 input.sk-toggleable__control:checked~div.sk-toggleable__content {max-height: 200px;max-width: 100%;overflow: auto;}#sk-container-id-1 input.sk-toggleable__control:checked~label.sk-toggleable__label-arrow:before {content: \"▾\";}#sk-container-id-1 div.sk-estimator input.sk-toggleable__control:checked~label.sk-toggleable__label {background-color: #d4ebff;}#sk-container-id-1 div.sk-label input.sk-toggleable__control:checked~label.sk-toggleable__label {background-color: #d4ebff;}#sk-container-id-1 input.sk-hidden--visually {border: 0;clip: rect(1px 1px 1px 1px);clip: rect(1px, 1px, 1px, 1px);height: 1px;margin: -1px;overflow: hidden;padding: 0;position: absolute;width: 1px;}#sk-container-id-1 div.sk-estimator {font-family: monospace;background-color: #f0f8ff;border: 1px dotted black;border-radius: 0.25em;box-sizing: border-box;margin-bottom: 0.5em;}#sk-container-id-1 div.sk-estimator:hover {background-color: #d4ebff;}#sk-container-id-1 div.sk-parallel-item::after {content: \"\";width: 100%;border-bottom: 1px solid gray;flex-grow: 1;}#sk-container-id-1 div.sk-label:hover label.sk-toggleable__label {background-color: #d4ebff;}#sk-container-id-1 div.sk-serial::before {content: \"\";position: absolute;border-left: 1px solid gray;box-sizing: border-box;top: 0;bottom: 0;left: 50%;z-index: 0;}#sk-container-id-1 div.sk-serial {display: flex;flex-direction: column;align-items: center;background-color: white;padding-right: 0.2em;padding-left: 0.2em;position: relative;}#sk-container-id-1 div.sk-item {position: relative;z-index: 1;}#sk-container-id-1 div.sk-parallel {display: flex;align-items: stretch;justify-content: center;background-color: white;position: relative;}#sk-container-id-1 div.sk-item::before, #sk-container-id-1 div.sk-parallel-item::before {content: \"\";position: absolute;border-left: 1px solid gray;box-sizing: border-box;top: 0;bottom: 0;left: 50%;z-index: -1;}#sk-container-id-1 div.sk-parallel-item {display: flex;flex-direction: column;z-index: 1;position: relative;background-color: white;}#sk-container-id-1 div.sk-parallel-item:first-child::after {align-self: flex-end;width: 50%;}#sk-container-id-1 div.sk-parallel-item:last-child::after {align-self: flex-start;width: 50%;}#sk-container-id-1 div.sk-parallel-item:only-child::after {width: 0;}#sk-container-id-1 div.sk-dashed-wrapped {border: 1px dashed gray;margin: 0 0.4em 0.5em 0.4em;box-sizing: border-box;padding-bottom: 0.4em;background-color: white;}#sk-container-id-1 div.sk-label label {font-family: monospace;font-weight: bold;display: inline-block;line-height: 1.2em;}#sk-container-id-1 div.sk-label-container {text-align: center;}#sk-container-id-1 div.sk-container {/* jupyter's `normalize.less` sets `[hidden] { display: none; }` but bootstrap.min.css set `[hidden] { display: none !important; }` so we also need the `!important` here to be able to override the default hidden behavior on the sphinx rendered scikit-learn.org. See: https://github.com/scikit-learn/scikit-learn/issues/21755 */display: inline-block !important;position: relative;}#sk-container-id-1 div.sk-text-repr-fallback {display: none;}</style><div id=\"sk-container-id-1\" class=\"sk-top-container\"><div class=\"sk-text-repr-fallback\"><pre>RandomForestRegressor(max_depth=10, min_samples_leaf=5)</pre><b>In a Jupyter environment, please rerun this cell to show the HTML representation or trust the notebook. <br />On GitHub, the HTML representation is unable to render, please try loading this page with nbviewer.org.</b></div><div class=\"sk-container\" hidden><div class=\"sk-item\"><div class=\"sk-estimator sk-toggleable\"><input class=\"sk-toggleable__control sk-hidden--visually\" id=\"sk-estimator-id-1\" type=\"checkbox\" checked><label for=\"sk-estimator-id-1\" class=\"sk-toggleable__label sk-toggleable__label-arrow\">RandomForestRegressor</label><div class=\"sk-toggleable__content\"><pre>RandomForestRegressor(max_depth=10, min_samples_leaf=5)</pre></div></div></div></div></div>"
            ],
            "text/plain": [
              "RandomForestRegressor(max_depth=10, min_samples_leaf=5)"
            ]
          },
          "execution_count": 8,
          "metadata": {},
          "output_type": "execute_result"
        }
      ],
      "source": [
        "rf = RandomForestRegressor(n_estimators=100, max_depth=10, min_samples_leaf=5)\n",
        "rf.fit(X_train, y_train)"
      ]
    },
    {
      "cell_type": "code",
      "execution_count": null,
      "metadata": {
        "id": "_hOooKgPkSzG"
      },
      "outputs": [],
      "source": [
        "y_pred = rf.predict(X_test)"
      ]
    },
    {
      "cell_type": "code",
      "execution_count": null,
      "metadata": {
        "colab": {
          "background_save": true
        },
        "id": "zG0n-lXb_sfK",
        "outputId": "b5f923d0-7c4c-4e32-94cb-4e220118008f"
      },
      "outputs": [
        {
          "data": {
            "image/png": "[encoded data removed]",
            "text/plain": [
              "<Figure size 640x480 with 1 Axes>"
            ]
          },
          "metadata": {},
          "output_type": "display_data"
        }
      ],
      "source": [
        "from sklearn.model_selection import learning_curve\n",
        "\n",
        "train_sizes, train_scores, test_scores = learning_curve(rf, X, y, cv=3, n_jobs=-1)\n",
        "\n",
        "train_mean = np.mean(train_scores, axis=1)\n",
        "train_std = np.std(train_scores, axis=1)\n",
        "test_mean = np.mean(test_scores, axis=1)\n",
        "test_std = np.std(test_scores, axis=1)\n",
        "\n",
        "plt.plot(train_sizes, train_mean, color='blue', marker='o', markersize=5, label='training accuracy')\n",
        "plt.fill_between(train_sizes, train_mean + train_std, train_mean - train_std, alpha=0.15, color='blue')\n",
        "plt.plot(train_sizes, test_mean, color='green', linestyle='--', marker='s', markersize=5, label='validation accuracy')\n",
        "plt.fill_between(train_sizes, test_mean + test_std, test_mean - test_std, alpha=0.15, color='green')\n",
        "plt.xlabel('Number of training samples')\n",
        "plt.ylabel('Accuracy')\n",
        "plt.legend(loc='lower right')\n",
        "plt.ylim([0.5, 1.0])\n",
        "plt.show()"
      ]
    },
    {
      "cell_type": "code",
      "source": [
        "from sklearn.model_selection import validation_curve\n",
        "\n",
        "param_range = [1, 10, 100]\n",
        "train_scores, test_scores = validation_curve(rf, X, y, param_name='max_depth', param_range=param_range, cv=3)\n",
        "\n",
        "train_mean = np.mean(train_scores, axis=1)\n",
        "train_std = np.std(train_scores, axis=1)\n",
        "test_mean = np.mean(test_scores, axis=1)\n",
        "test_std = np.std(test_scores, axis=1)\n",
        "\n",
        "plt.plot(param_range, train_mean, color='blue', marker='o', markersize=5, label='training accuracy')\n",
        "plt.fill_between(param_range, train_mean + train_std, train_mean - train_std, alpha=0.15, color='blue')\n",
        "plt.plot(param_range, test_mean, color='green', linestyle='--', marker='s', markersize=5, label='validation accuracy')\n",
        "plt.fill_between(param_range, test_mean + test_std, test_mean - test_std, alpha=0.15, color='green')\n",
        "plt.xlabel('Parameter')\n",
        "plt.ylabel('Accuracy')\n",
        "plt.legend(loc='lower right')\n",
        "plt.ylim([0.5, 1.0])\n",
        "plt.show()"
      ],
      "metadata": {
        "colab": {
          "base_uri": "https://localhost:8080/",
          "height": 455
        },
        "id": "7ly65P1xCzGM",
        "outputId": "aeaf4f1f-017c-463c-9ef6-fd2f4f3bd593"
      },
      "execution_count": null,
      "outputs": [
        {
          "output_type": "display_data",
          "data": {
            "text/plain": [
              "<Figure size 640x480 with 1 Axes>"
            ],
            "image/png": "[encoded data removed]"
          },
          "metadata": {}
        }
      ]
    },
    {
      "cell_type": "code",
      "execution_count": null,
      "metadata": {
        "colab": {
          "base_uri": "https://localhost:8080/"
        },
        "id": "L4xxXYvQkUwj",
        "outputId": "6c563828-e970-4c93-801c-bfbf8be97dfe"
      },
      "outputs": [
        {
          "output_type": "stream",
          "name": "stdout",
          "text": [
            "Root Mean Squared Error: 16.23715476734628\n",
            "R-squared: 0.882105818224973\n"
          ]
        }
      ],
      "source": [
        "print('Root Mean Squared Error:', mean_squared_error(y_test, y_pred, squared=False))\n",
        "print('R-squared:', r2_score(y_test, y_pred))"
      ]
    },
    {
      "cell_type": "code",
      "execution_count": null,
      "metadata": {
        "colab": {
          "base_uri": "https://localhost:8080/"
        },
        "id": "ouShc3aJeO7l",
        "outputId": "f9009da8-b024-4d82-9000-301ed0c09a00"
      },
      "outputs": [
        {
          "name": "stdout",
          "output_type": "stream",
          "text": [
            "Fitting 3 folds for each of 50 candidates, totalling 150 fits\n"
          ]
        },
        {
          "name": "stderr",
          "output_type": "stream",
          "text": [
            "/usr/local/lib/python3.9/dist-packages/sklearn/ensemble/_forest.py:413: FutureWarning: `max_features='auto'` has been deprecated in 1.1 and will be removed in 1.3. To keep the past behaviour, explicitly set `max_features=1.0` or remove this parameter as it is also the default value for RandomForestRegressors and ExtraTreesRegressors.\n",
            "  warn(\n"
          ]
        },
        {
          "name": "stdout",
          "output_type": "stream",
          "text": [
            "{'max_depth': 47, 'max_features': 'auto', 'min_samples_leaf': 5, 'min_samples_split': 5, 'n_estimators': 135}\n"
          ]
        }
      ],
      "source": [
        "from sklearn.model_selection import RandomizedSearchCV\n",
        "from scipy.stats import randint\n",
        "\n",
        "param_dist = {\n",
        "    'n_estimators': randint(100, 1000),\n",
        "    'max_depth': randint(10, 100),\n",
        "    'min_samples_split': randint(2, 20),\n",
        "    'min_samples_leaf': randint(1, 10),\n",
        "    'max_features': ['auto', 'sqrt', 'log2']\n",
        "}\n",
        "\n",
        "random_search = RandomizedSearchCV(estimator=rf, param_distributions=param_dist, n_iter=50, cv=3, n_jobs=-1, verbose=2)\n",
        "random_search.fit(X_train, y_train)\n",
        "\n",
        "best_params = random_search.best_params_\n",
        "print(best_params)"
      ]
    },
    {
      "cell_type": "code",
      "execution_count": null,
      "metadata": {
        "id": "UpPxVnT9gTlD"
      },
      "outputs": [],
      "source": []
    }
  ],
  "metadata": {
    "accelerator": "TPU",
    "colab": {
      "provenance": [],
      "authorship_tag": "ABX9TyPeA/4D3KfP2MlJMm8g+0e6",
      "include_colab_link": true
    },
    "gpuClass": "standard",
    "kernelspec": {
      "display_name": "Python 3",
      "name": "python3"
    },
    "language_info": {
      "name": "python"
    }
  },
  "nbformat": 4,
  "nbformat_minor": 0
}