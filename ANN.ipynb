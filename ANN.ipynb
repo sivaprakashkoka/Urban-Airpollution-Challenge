{
  "nbformat": 4,
  "nbformat_minor": 0,
  "metadata": {
    "colab": {
      "provenance": [],
      "authorship_tag": "ABX9TyOa8JpXA8q78qK0bAplsA3n",
      "include_colab_link": true
    },
    "kernelspec": {
      "name": "python3",
      "display_name": "Python 3"
    },
    "language_info": {
      "name": "python"
    }
  },
  "cells": [
    {
      "cell_type": "markdown",
      "metadata": {
        "id": "view-in-github",
        "colab_type": "text"
      },
      "source": [
        "<a href=\"https://colab.research.google.com/github/sivaprakashkoka/Urban-Airpollution-Challenge/blob/main/ANN.ipynb\" target=\"_parent\"><img src=\"https://colab.research.google.com/assets/colab-badge.svg\" alt=\"Open In Colab\"/></a>"
      ]
    },
    {
      "cell_type": "code",
      "execution_count": null,
      "metadata": {
        "colab": {
          "base_uri": "https://localhost:8080/"
        },
        "id": "STXBNhLYg52V",
        "outputId": "1ae954cc-a8c8-40a5-9b2e-a9a14ad6935f"
      },
      "outputs": [
        {
          "output_type": "stream",
          "name": "stdout",
          "text": [
            "Looking in indexes: https://pypi.org/simple, https://us-python.pkg.dev/colab-wheels/public/simple/\n",
            "Requirement already satisfied: tensorflow in /usr/local/lib/python3.9/dist-packages (2.12.0)\n",
            "Requirement already satisfied: google-pasta>=0.1.1 in /usr/local/lib/python3.9/dist-packages (from tensorflow) (0.2.0)\n",
            "Requirement already satisfied: keras<2.13,>=2.12.0 in /usr/local/lib/python3.9/dist-packages (from tensorflow) (2.12.0)\n",
            "Requirement already satisfied: six>=1.12.0 in /usr/local/lib/python3.9/dist-packages (from tensorflow) (1.16.0)\n",
            "Requirement already satisfied: h5py>=2.9.0 in /usr/local/lib/python3.9/dist-packages (from tensorflow) (3.8.0)\n",
            "Requirement already satisfied: tensorboard<2.13,>=2.12 in /usr/local/lib/python3.9/dist-packages (from tensorflow) (2.12.1)\n",
            "Requirement already satisfied: setuptools in /usr/local/lib/python3.9/dist-packages (from tensorflow) (67.6.1)\n",
            "Requirement already satisfied: packaging in /usr/local/lib/python3.9/dist-packages (from tensorflow) (23.0)\n",
            "Requirement already satisfied: tensorflow-io-gcs-filesystem>=0.23.1 in /usr/local/lib/python3.9/dist-packages (from tensorflow) (0.32.0)\n",
            "Requirement already satisfied: typing-extensions>=3.6.6 in /usr/local/lib/python3.9/dist-packages (from tensorflow) (4.5.0)\n",
            "Requirement already satisfied: protobuf!=4.21.0,!=4.21.1,!=4.21.2,!=4.21.3,!=4.21.4,!=4.21.5,<5.0.0dev,>=3.20.3 in /usr/local/lib/python3.9/dist-packages (from tensorflow) (3.20.3)\n",
            "Requirement already satisfied: gast<=0.4.0,>=0.2.1 in /usr/local/lib/python3.9/dist-packages (from tensorflow) (0.4.0)\n",
            "Requirement already satisfied: astunparse>=1.6.0 in /usr/local/lib/python3.9/dist-packages (from tensorflow) (1.6.3)\n",
            "Requirement already satisfied: opt-einsum>=2.3.2 in /usr/local/lib/python3.9/dist-packages (from tensorflow) (3.3.0)\n",
            "Requirement already satisfied: jax>=0.3.15 in /usr/local/lib/python3.9/dist-packages (from tensorflow) (0.4.7)\n",
            "Requirement already satisfied: absl-py>=1.0.0 in /usr/local/lib/python3.9/dist-packages (from tensorflow) (1.4.0)\n",
            "Requirement already satisfied: flatbuffers>=2.0 in /usr/local/lib/python3.9/dist-packages (from tensorflow) (23.3.3)\n",
            "Requirement already satisfied: termcolor>=1.1.0 in /usr/local/lib/python3.9/dist-packages (from tensorflow) (2.2.0)\n",
            "Requirement already satisfied: numpy<1.24,>=1.22 in /usr/local/lib/python3.9/dist-packages (from tensorflow) (1.22.4)\n",
            "Requirement already satisfied: libclang>=13.0.0 in /usr/local/lib/python3.9/dist-packages (from tensorflow) (16.0.0)\n",
            "Requirement already satisfied: grpcio<2.0,>=1.24.3 in /usr/local/lib/python3.9/dist-packages (from tensorflow) (1.53.0)\n",
            "Requirement already satisfied: wrapt<1.15,>=1.11.0 in /usr/local/lib/python3.9/dist-packages (from tensorflow) (1.14.1)\n",
            "Requirement already satisfied: tensorflow-estimator<2.13,>=2.12.0 in /usr/local/lib/python3.9/dist-packages (from tensorflow) (2.12.0)\n",
            "Requirement already satisfied: wheel<1.0,>=0.23.0 in /usr/local/lib/python3.9/dist-packages (from astunparse>=1.6.0->tensorflow) (0.40.0)\n",
            "Requirement already satisfied: ml-dtypes>=0.0.3 in /usr/local/lib/python3.9/dist-packages (from jax>=0.3.15->tensorflow) (0.0.4)\n",
            "Requirement already satisfied: scipy>=1.7 in /usr/local/lib/python3.9/dist-packages (from jax>=0.3.15->tensorflow) (1.10.1)\n",
            "Requirement already satisfied: tensorboard-plugin-wit>=1.6.0 in /usr/local/lib/python3.9/dist-packages (from tensorboard<2.13,>=2.12->tensorflow) (1.8.1)\n",
            "Requirement already satisfied: markdown>=2.6.8 in /usr/local/lib/python3.9/dist-packages (from tensorboard<2.13,>=2.12->tensorflow) (3.4.3)\n",
            "Requirement already satisfied: google-auth-oauthlib<1.1,>=0.5 in /usr/local/lib/python3.9/dist-packages (from tensorboard<2.13,>=2.12->tensorflow) (1.0.0)\n",
            "Requirement already satisfied: google-auth<3,>=1.6.3 in /usr/local/lib/python3.9/dist-packages (from tensorboard<2.13,>=2.12->tensorflow) (2.17.2)\n",
            "Requirement already satisfied: werkzeug>=1.0.1 in /usr/local/lib/python3.9/dist-packages (from tensorboard<2.13,>=2.12->tensorflow) (2.2.3)\n",
            "Requirement already satisfied: tensorboard-data-server<0.8.0,>=0.7.0 in /usr/local/lib/python3.9/dist-packages (from tensorboard<2.13,>=2.12->tensorflow) (0.7.0)\n",
            "Requirement already satisfied: requests<3,>=2.21.0 in /usr/local/lib/python3.9/dist-packages (from tensorboard<2.13,>=2.12->tensorflow) (2.27.1)\n",
            "Requirement already satisfied: rsa<5,>=3.1.4 in /usr/local/lib/python3.9/dist-packages (from google-auth<3,>=1.6.3->tensorboard<2.13,>=2.12->tensorflow) (4.9)\n",
            "Requirement already satisfied: cachetools<6.0,>=2.0.0 in /usr/local/lib/python3.9/dist-packages (from google-auth<3,>=1.6.3->tensorboard<2.13,>=2.12->tensorflow) (5.3.0)\n",
            "Requirement already satisfied: pyasn1-modules>=0.2.1 in /usr/local/lib/python3.9/dist-packages (from google-auth<3,>=1.6.3->tensorboard<2.13,>=2.12->tensorflow) (0.2.8)\n",
            "Requirement already satisfied: requests-oauthlib>=0.7.0 in /usr/local/lib/python3.9/dist-packages (from google-auth-oauthlib<1.1,>=0.5->tensorboard<2.13,>=2.12->tensorflow) (1.3.1)\n",
            "Requirement already satisfied: importlib-metadata>=4.4 in /usr/local/lib/python3.9/dist-packages (from markdown>=2.6.8->tensorboard<2.13,>=2.12->tensorflow) (6.2.0)\n",
            "Requirement already satisfied: charset-normalizer~=2.0.0 in /usr/local/lib/python3.9/dist-packages (from requests<3,>=2.21.0->tensorboard<2.13,>=2.12->tensorflow) (2.0.12)\n",
            "Requirement already satisfied: urllib3<1.27,>=1.21.1 in /usr/local/lib/python3.9/dist-packages (from requests<3,>=2.21.0->tensorboard<2.13,>=2.12->tensorflow) (1.26.15)\n",
            "Requirement already satisfied: idna<4,>=2.5 in /usr/local/lib/python3.9/dist-packages (from requests<3,>=2.21.0->tensorboard<2.13,>=2.12->tensorflow) (3.4)\n",
            "Requirement already satisfied: certifi>=2017.4.17 in /usr/local/lib/python3.9/dist-packages (from requests<3,>=2.21.0->tensorboard<2.13,>=2.12->tensorflow) (2022.12.7)\n",
            "Requirement already satisfied: MarkupSafe>=2.1.1 in /usr/local/lib/python3.9/dist-packages (from werkzeug>=1.0.1->tensorboard<2.13,>=2.12->tensorflow) (2.1.2)\n",
            "Requirement already satisfied: zipp>=0.5 in /usr/local/lib/python3.9/dist-packages (from importlib-metadata>=4.4->markdown>=2.6.8->tensorboard<2.13,>=2.12->tensorflow) (3.15.0)\n",
            "Requirement already satisfied: pyasn1<0.5.0,>=0.4.6 in /usr/local/lib/python3.9/dist-packages (from pyasn1-modules>=0.2.1->google-auth<3,>=1.6.3->tensorboard<2.13,>=2.12->tensorflow) (0.4.8)\n",
            "Requirement already satisfied: oauthlib>=3.0.0 in /usr/local/lib/python3.9/dist-packages (from requests-oauthlib>=0.7.0->google-auth-oauthlib<1.1,>=0.5->tensorboard<2.13,>=2.12->tensorflow) (3.2.2)\n"
          ]
        }
      ],
      "source": [
        "! pip install tensorflow"
      ]
    },
    {
      "cell_type": "code",
      "execution_count": null,
      "metadata": {
        "id": "MDoYwWHUeuhA"
      },
      "outputs": [],
      "source": [
        "import pandas as pd\n",
        "import numpy as np\n",
        "import matplotlib.pyplot as plt\n",
        "import seaborn as sns\n",
        "from sklearn.preprocessing import StandardScaler\n",
        "from tensorflow.keras.models import Sequential\n",
        "from tensorflow.keras.layers import Dense\n",
        "from tensorflow.keras.optimizers import Adam\n",
        "from tensorflow.keras.callbacks import EarlyStopping"
      ]
    },
    {
      "cell_type": "code",
      "execution_count": null,
      "metadata": {
        "id": "vq1rfgQfe8wE"
      },
      "outputs": [],
      "source": [
        "data = pd.read_csv(\"completed_train.csv\")"
      ]
    },
    {
      "cell_type": "code",
      "execution_count": null,
      "metadata": {
        "colab": {
          "base_uri": "https://localhost:8080/",
          "height": 490
        },
        "id": "568-BIsefGYu",
        "outputId": "0703dfea-5f86-4da9-9cb1-a2fbd8854664"
      },
      "outputs": [
        {
          "output_type": "execute_result",
          "data": {
            "text/plain": [
              "        Place_ID X Date        Date Place_ID  target  target_min  target_max  \\\n",
              "0  010Q650 X 2020-01-02  2020-01-02  010Q650    38.0        23.0        53.0   \n",
              "1  010Q650 X 2020-01-03  2020-01-03  010Q650    39.0        25.0        63.0   \n",
              "2  010Q650 X 2020-01-04  2020-01-04  010Q650    24.0         8.0        56.0   \n",
              "3  010Q650 X 2020-01-05  2020-01-05  010Q650    49.0        10.0        55.0   \n",
              "4  010Q650 X 2020-01-06  2020-01-06  010Q650    21.0         9.0        52.0   \n",
              "\n",
              "   target_variance  target_count  precipitable_water_entire_atmosphere  \\\n",
              "0           769.50            92                             11.000000   \n",
              "1          1319.85            91                             14.600000   \n",
              "2          1181.96            96                             16.400000   \n",
              "3          1113.67            96                              6.911948   \n",
              "4          1164.82            95                             13.900001   \n",
              "\n",
              "   relative_humidity_2m_above_ground  ...  L3_CLOUD_cloud_top_pressure  \\\n",
              "0                          60.200001  ...                 72204.276756   \n",
              "1                          48.799999  ...                 99353.672374   \n",
              "2                          33.400002  ...                 95671.383578   \n",
              "3                          21.300001  ...                 96232.486418   \n",
              "4                          44.700001  ...                 52561.523079   \n",
              "\n",
              "   L3_CLOUD_surface_albedo  L3_AER_AI_absorbing_aerosol_index  \\\n",
              "0                 0.252417                          -1.231330   \n",
              "1                 0.315403                          -1.082553   \n",
              "2                 0.307463                          -1.001241   \n",
              "3                 0.279637                          -0.777023   \n",
              "4                 0.238241                           0.366324   \n",
              "\n",
              "   L3_AER_AI_sensor_altitude  L3_SO2_SO2_column_number_density  \\\n",
              "0              840209.874619                         -0.000127   \n",
              "1              840772.941995                          0.000150   \n",
              "2              841410.713456                          0.000150   \n",
              "3              841103.242368                          0.000227   \n",
              "4              840763.055499                          0.000390   \n",
              "\n",
              "   L3_SO2_SO2_column_number_density_amf  \\\n",
              "0                              0.312521   \n",
              "1                              0.433957   \n",
              "2                              0.356925   \n",
              "3                              0.584522   \n",
              "4                              0.408047   \n",
              "\n",
              "   L3_SO2_SO2_slant_column_number_density  L3_SO2_absorbing_aerosol_index  \\\n",
              "0                               -0.000040                       -1.861476   \n",
              "1                                0.000050                       -1.452612   \n",
              "2                                0.000053                       -1.572950   \n",
              "3                                0.000110                       -1.239317   \n",
              "4                                0.000159                        0.202489   \n",
              "\n",
              "   L3_SO2_cloud_fraction  Month  \n",
              "0               0.000000      1  \n",
              "1               0.059433      1  \n",
              "2               0.082063      1  \n",
              "3               0.121261      1  \n",
              "4               0.037919      1  \n",
              "\n",
              "[5 rows x 47 columns]"
            ],
            "text/html": [
              "\n",
              "  <div id=\"df-ccecc565-58ff-4cf2-bd17-ec892d9d21b0\">\n",
              "    <div class=\"colab-df-container\">\n",
              "      <div>\n",
              "<style scoped>\n",
              "    .dataframe tbody tr th:only-of-type {\n",
              "        vertical-align: middle;\n",
              "    }\n",
              "\n",
              "    .dataframe tbody tr th {\n",
              "        vertical-align: top;\n",
              "    }\n",
              "\n",
              "    .dataframe thead th {\n",
              "        text-align: right;\n",
              "    }\n",
              "</style>\n",
              "<table border=\"1\" class=\"dataframe\">\n",
              "  <thead>\n",
              "    <tr style=\"text-align: right;\">\n",
              "      <th></th>\n",
              "      <th>Place_ID X Date</th>\n",
              "      <th>Date</th>\n",
              "      <th>Place_ID</th>\n",
              "      <th>target</th>\n",
              "      <th>target_min</th>\n",
              "      <th>target_max</th>\n",
              "      <th>target_variance</th>\n",
              "      <th>target_count</th>\n",
              "      <th>precipitable_water_entire_atmosphere</th>\n",
              "      <th>relative_humidity_2m_above_ground</th>\n",
              "      <th>...</th>\n",
              "      <th>L3_CLOUD_cloud_top_pressure</th>\n",
              "      <th>L3_CLOUD_surface_albedo</th>\n",
              "      <th>L3_AER_AI_absorbing_aerosol_index</th>\n",
              "      <th>L3_AER_AI_sensor_altitude</th>\n",
              "      <th>L3_SO2_SO2_column_number_density</th>\n",
              "      <th>L3_SO2_SO2_column_number_density_amf</th>\n",
              "      <th>L3_SO2_SO2_slant_column_number_density</th>\n",
              "      <th>L3_SO2_absorbing_aerosol_index</th>\n",
              "      <th>L3_SO2_cloud_fraction</th>\n",
              "      <th>Month</th>\n",
              "    </tr>\n",
              "  </thead>\n",
              "  <tbody>\n",
              "    <tr>\n",
              "      <th>0</th>\n",
              "      <td>010Q650 X 2020-01-02</td>\n",
              "      <td>2020-01-02</td>\n",
              "      <td>010Q650</td>\n",
              "      <td>38.0</td>\n",
              "      <td>23.0</td>\n",
              "      <td>53.0</td>\n",
              "      <td>769.50</td>\n",
              "      <td>92</td>\n",
              "      <td>11.000000</td>\n",
              "      <td>60.200001</td>\n",
              "      <td>...</td>\n",
              "      <td>72204.276756</td>\n",
              "      <td>0.252417</td>\n",
              "      <td>-1.231330</td>\n",
              "      <td>840209.874619</td>\n",
              "      <td>-0.000127</td>\n",
              "      <td>0.312521</td>\n",
              "      <td>-0.000040</td>\n",
              "      <td>-1.861476</td>\n",
              "      <td>0.000000</td>\n",
              "      <td>1</td>\n",
              "    </tr>\n",
              "    <tr>\n",
              "      <th>1</th>\n",
              "      <td>010Q650 X 2020-01-03</td>\n",
              "      <td>2020-01-03</td>\n",
              "      <td>010Q650</td>\n",
              "      <td>39.0</td>\n",
              "      <td>25.0</td>\n",
              "      <td>63.0</td>\n",
              "      <td>1319.85</td>\n",
              "      <td>91</td>\n",
              "      <td>14.600000</td>\n",
              "      <td>48.799999</td>\n",
              "      <td>...</td>\n",
              "      <td>99353.672374</td>\n",
              "      <td>0.315403</td>\n",
              "      <td>-1.082553</td>\n",
              "      <td>840772.941995</td>\n",
              "      <td>0.000150</td>\n",
              "      <td>0.433957</td>\n",
              "      <td>0.000050</td>\n",
              "      <td>-1.452612</td>\n",
              "      <td>0.059433</td>\n",
              "      <td>1</td>\n",
              "    </tr>\n",
              "    <tr>\n",
              "      <th>2</th>\n",
              "      <td>010Q650 X 2020-01-04</td>\n",
              "      <td>2020-01-04</td>\n",
              "      <td>010Q650</td>\n",
              "      <td>24.0</td>\n",
              "      <td>8.0</td>\n",
              "      <td>56.0</td>\n",
              "      <td>1181.96</td>\n",
              "      <td>96</td>\n",
              "      <td>16.400000</td>\n",
              "      <td>33.400002</td>\n",
              "      <td>...</td>\n",
              "      <td>95671.383578</td>\n",
              "      <td>0.307463</td>\n",
              "      <td>-1.001241</td>\n",
              "      <td>841410.713456</td>\n",
              "      <td>0.000150</td>\n",
              "      <td>0.356925</td>\n",
              "      <td>0.000053</td>\n",
              "      <td>-1.572950</td>\n",
              "      <td>0.082063</td>\n",
              "      <td>1</td>\n",
              "    </tr>\n",
              "    <tr>\n",
              "      <th>3</th>\n",
              "      <td>010Q650 X 2020-01-05</td>\n",
              "      <td>2020-01-05</td>\n",
              "      <td>010Q650</td>\n",
              "      <td>49.0</td>\n",
              "      <td>10.0</td>\n",
              "      <td>55.0</td>\n",
              "      <td>1113.67</td>\n",
              "      <td>96</td>\n",
              "      <td>6.911948</td>\n",
              "      <td>21.300001</td>\n",
              "      <td>...</td>\n",
              "      <td>96232.486418</td>\n",
              "      <td>0.279637</td>\n",
              "      <td>-0.777023</td>\n",
              "      <td>841103.242368</td>\n",
              "      <td>0.000227</td>\n",
              "      <td>0.584522</td>\n",
              "      <td>0.000110</td>\n",
              "      <td>-1.239317</td>\n",
              "      <td>0.121261</td>\n",
              "      <td>1</td>\n",
              "    </tr>\n",
              "    <tr>\n",
              "      <th>4</th>\n",
              "      <td>010Q650 X 2020-01-06</td>\n",
              "      <td>2020-01-06</td>\n",
              "      <td>010Q650</td>\n",
              "      <td>21.0</td>\n",
              "      <td>9.0</td>\n",
              "      <td>52.0</td>\n",
              "      <td>1164.82</td>\n",
              "      <td>95</td>\n",
              "      <td>13.900001</td>\n",
              "      <td>44.700001</td>\n",
              "      <td>...</td>\n",
              "      <td>52561.523079</td>\n",
              "      <td>0.238241</td>\n",
              "      <td>0.366324</td>\n",
              "      <td>840763.055499</td>\n",
              "      <td>0.000390</td>\n",
              "      <td>0.408047</td>\n",
              "      <td>0.000159</td>\n",
              "      <td>0.202489</td>\n",
              "      <td>0.037919</td>\n",
              "      <td>1</td>\n",
              "    </tr>\n",
              "  </tbody>\n",
              "</table>\n",
              "<p>5 rows × 47 columns</p>\n",
              "</div>\n",
              "      <button class=\"colab-df-convert\" onclick=\"convertToInteractive('df-ccecc565-58ff-4cf2-bd17-ec892d9d21b0')\"\n",
              "              title=\"Convert this dataframe to an interactive table.\"\n",
              "              style=\"display:none;\">\n",
              "        \n",
              "  <svg xmlns=\"http://www.w3.org/2000/svg\" height=\"24px\"viewBox=\"0 0 24 24\"\n",
              "       width=\"24px\">\n",
              "    <path d=\"M0 0h24v24H0V0z\" fill=\"none\"/>\n",
              "    <path d=\"M18.56 5.44l.94 2.06.94-2.06 2.06-.94-2.06-.94-.94-2.06-.94 2.06-2.06.94zm-11 1L8.5 8.5l.94-2.06 2.06-.94-2.06-.94L8.5 2.5l-.94 2.06-2.06.94zm10 10l.94 2.06.94-2.06 2.06-.94-2.06-.94-.94-2.06-.94 2.06-2.06.94z\"/><path d=\"M17.41 7.96l-1.37-1.37c-.4-.4-.92-.59-1.43-.59-.52 0-1.04.2-1.43.59L10.3 9.45l-7.72 7.72c-.78.78-.78 2.05 0 2.83L4 21.41c.39.39.9.59 1.41.59.51 0 1.02-.2 1.41-.59l7.78-7.78 2.81-2.81c.8-.78.8-2.07 0-2.86zM5.41 20L4 18.59l7.72-7.72 1.47 1.35L5.41 20z\"/>\n",
              "  </svg>\n",
              "      </button>\n",
              "      \n",
              "  <style>\n",
              "    .colab-df-container {\n",
              "      display:flex;\n",
              "      flex-wrap:wrap;\n",
              "      gap: 12px;\n",
              "    }\n",
              "\n",
              "    .colab-df-convert {\n",
              "      background-color: #E8F0FE;\n",
              "      border: none;\n",
              "      border-radius: 50%;\n",
              "      cursor: pointer;\n",
              "      display: none;\n",
              "      fill: #1967D2;\n",
              "      height: 32px;\n",
              "      padding: 0 0 0 0;\n",
              "      width: 32px;\n",
              "    }\n",
              "\n",
              "    .colab-df-convert:hover {\n",
              "      background-color: #E2EBFA;\n",
              "      box-shadow: 0px 1px 2px rgba(60, 64, 67, 0.3), 0px 1px 3px 1px rgba(60, 64, 67, 0.15);\n",
              "      fill: #174EA6;\n",
              "    }\n",
              "\n",
              "    [theme=dark] .colab-df-convert {\n",
              "      background-color: #3B4455;\n",
              "      fill: #D2E3FC;\n",
              "    }\n",
              "\n",
              "    [theme=dark] .colab-df-convert:hover {\n",
              "      background-color: #434B5C;\n",
              "      box-shadow: 0px 1px 3px 1px rgba(0, 0, 0, 0.15);\n",
              "      filter: drop-shadow(0px 1px 2px rgba(0, 0, 0, 0.3));\n",
              "      fill: #FFFFFF;\n",
              "    }\n",
              "  </style>\n",
              "\n",
              "      <script>\n",
              "        const buttonEl =\n",
              "          document.querySelector('#df-ccecc565-58ff-4cf2-bd17-ec892d9d21b0 button.colab-df-convert');\n",
              "        buttonEl.style.display =\n",
              "          google.colab.kernel.accessAllowed ? 'block' : 'none';\n",
              "\n",
              "        async function convertToInteractive(key) {\n",
              "          const element = document.querySelector('#df-ccecc565-58ff-4cf2-bd17-ec892d9d21b0');\n",
              "          const dataTable =\n",
              "            await google.colab.kernel.invokeFunction('convertToInteractive',\n",
              "                                                     [key], {});\n",
              "          if (!dataTable) return;\n",
              "\n",
              "          const docLinkHtml = 'Like what you see? Visit the ' +\n",
              "            '<a target=\"_blank\" href=https://colab.research.google.com/notebooks/data_table.ipynb>data table notebook</a>'\n",
              "            + ' to learn more about interactive tables.';\n",
              "          element.innerHTML = '';\n",
              "          dataTable['output_type'] = 'display_data';\n",
              "          await google.colab.output.renderOutput(dataTable, element);\n",
              "          const docLink = document.createElement('div');\n",
              "          docLink.innerHTML = docLinkHtml;\n",
              "          element.appendChild(docLink);\n",
              "        }\n",
              "      </script>\n",
              "    </div>\n",
              "  </div>\n",
              "  "
            ]
          },
          "metadata": {},
          "execution_count": 26
        }
      ],
      "source": [
        "data.head()"
      ]
    },
    {
      "cell_type": "code",
      "execution_count": null,
      "metadata": {
        "colab": {
          "base_uri": "https://localhost:8080/"
        },
        "id": "N0YranRufMI_",
        "outputId": "46c13492-d673-4e5d-c0bf-4b2f7f404fa5"
      },
      "outputs": [
        {
          "output_type": "stream",
          "name": "stdout",
          "text": [
            "<class 'pandas.core.frame.DataFrame'>\n",
            "RangeIndex: 30554 entries, 0 to 30553\n",
            "Data columns (total 47 columns):\n",
            " #   Column                                               Non-Null Count  Dtype  \n",
            "---  ------                                               --------------  -----  \n",
            " 0   Place_ID X Date                                      30554 non-null  object \n",
            " 1   Date                                                 30554 non-null  object \n",
            " 2   Place_ID                                             30554 non-null  object \n",
            " 3   target                                               30554 non-null  float64\n",
            " 4   target_min                                           30554 non-null  float64\n",
            " 5   target_max                                           30554 non-null  float64\n",
            " 6   target_variance                                      30554 non-null  float64\n",
            " 7   target_count                                         30554 non-null  int64  \n",
            " 8   precipitable_water_entire_atmosphere                 30554 non-null  float64\n",
            " 9   relative_humidity_2m_above_ground                    30554 non-null  float64\n",
            " 10  specific_humidity_2m_above_ground                    30554 non-null  float64\n",
            " 11  temperature_2m_above_ground                          30554 non-null  float64\n",
            " 12  u_component_of_wind_10m_above_ground                 30554 non-null  float64\n",
            " 13  v_component_of_wind_10m_above_ground                 30554 non-null  float64\n",
            " 14  L3_NO2_NO2_column_number_density                     30554 non-null  float64\n",
            " 15  L3_NO2_NO2_slant_column_number_density               30554 non-null  float64\n",
            " 16  L3_NO2_absorbing_aerosol_index                       30554 non-null  float64\n",
            " 17  L3_NO2_cloud_fraction                                30554 non-null  float64\n",
            " 18  L3_NO2_stratospheric_NO2_column_number_density       30554 non-null  float64\n",
            " 19  L3_NO2_tropopause_pressure                           30554 non-null  float64\n",
            " 20  L3_NO2_tropospheric_NO2_column_number_density        30554 non-null  float64\n",
            " 21  L3_O3_O3_column_number_density                       30554 non-null  float64\n",
            " 22  L3_O3_O3_effective_temperature                       30554 non-null  float64\n",
            " 23  L3_O3_cloud_fraction                                 30554 non-null  float64\n",
            " 24  L3_CO_CO_column_number_density                       30554 non-null  float64\n",
            " 25  L3_CO_H2O_column_number_density                      30554 non-null  float64\n",
            " 26  L3_CO_cloud_height                                   30554 non-null  float64\n",
            " 27  L3_CO_sensor_altitude                                30554 non-null  float64\n",
            " 28  L3_HCHO_HCHO_slant_column_number_density             30554 non-null  float64\n",
            " 29  L3_HCHO_cloud_fraction                               30554 non-null  float64\n",
            " 30  L3_HCHO_tropospheric_HCHO_column_number_density      30554 non-null  float64\n",
            " 31  L3_HCHO_tropospheric_HCHO_column_number_density_amf  30554 non-null  float64\n",
            " 32  L3_CLOUD_cloud_base_height                           30554 non-null  float64\n",
            " 33  L3_CLOUD_cloud_base_pressure                         30554 non-null  float64\n",
            " 34  L3_CLOUD_cloud_fraction                              30554 non-null  float64\n",
            " 35  L3_CLOUD_cloud_optical_depth                         30554 non-null  float64\n",
            " 36  L3_CLOUD_cloud_top_height                            30554 non-null  float64\n",
            " 37  L3_CLOUD_cloud_top_pressure                          30554 non-null  float64\n",
            " 38  L3_CLOUD_surface_albedo                              30554 non-null  float64\n",
            " 39  L3_AER_AI_absorbing_aerosol_index                    30554 non-null  float64\n",
            " 40  L3_AER_AI_sensor_altitude                            30554 non-null  float64\n",
            " 41  L3_SO2_SO2_column_number_density                     30554 non-null  float64\n",
            " 42  L3_SO2_SO2_column_number_density_amf                 30554 non-null  float64\n",
            " 43  L3_SO2_SO2_slant_column_number_density               30554 non-null  float64\n",
            " 44  L3_SO2_absorbing_aerosol_index                       30554 non-null  float64\n",
            " 45  L3_SO2_cloud_fraction                                30554 non-null  float64\n",
            " 46  Month                                                30554 non-null  int64  \n",
            "dtypes: float64(42), int64(2), object(3)\n",
            "memory usage: 11.0+ MB\n"
          ]
        }
      ],
      "source": [
        "data.info()"
      ]
    },
    {
      "cell_type": "code",
      "execution_count": null,
      "metadata": {
        "id": "n-f_NX1UfQHO"
      },
      "outputs": [],
      "source": [
        "y = data['target']\n",
        "X = data.drop(['target', 'Place_ID X Date', 'Date', 'Place_ID'], axis = 1)"
      ]
    },
    {
      "cell_type": "code",
      "execution_count": null,
      "metadata": {
        "id": "s5LHTtPsfl3S"
      },
      "outputs": [],
      "source": [
        "from sklearn.model_selection import train_test_split\n",
        "X_train, X_test, y_train, y_test = train_test_split(X, y, test_size=0.2, random_state=42)"
      ]
    },
    {
      "cell_type": "code",
      "source": [
        "scaler = StandardScaler()\n",
        "X_train = scaler.fit_transform(X_train)\n",
        "X_test = scaler.transform(X_test)\n",
        "\n",
        "y_train = np.array(y_train)\n",
        "y_test = np.array(y_test)"
      ],
      "metadata": {
        "id": "5zO2BZsuiNr3"
      },
      "execution_count": null,
      "outputs": []
    },
    {
      "cell_type": "code",
      "source": [
        "model = Sequential()\n",
        "model.add(Dense(64, input_shape=(X_train.shape[1],), activation='relu'))\n",
        "model.add(Dense(32, activation='relu'))\n",
        "model.add(Dense(1))\n",
        "\n",
        "model.summary()"
      ],
      "metadata": {
        "colab": {
          "base_uri": "https://localhost:8080/"
        },
        "id": "V4tGdeXHiT2H",
        "outputId": "b19baa49-7a9f-4ee6-e77a-3c7218a2150b"
      },
      "execution_count": null,
      "outputs": [
        {
          "output_type": "stream",
          "name": "stdout",
          "text": [
            "Model: \"sequential_5\"\n",
            "_________________________________________________________________\n",
            " Layer (type)                Output Shape              Param #   \n",
            "=================================================================\n",
            " dense_15 (Dense)            (None, 64)                2816      \n",
            "                                                                 \n",
            " dense_16 (Dense)            (None, 32)                2080      \n",
            "                                                                 \n",
            " dense_17 (Dense)            (None, 1)                 33        \n",
            "                                                                 \n",
            "=================================================================\n",
            "Total params: 4,929\n",
            "Trainable params: 4,929\n",
            "Non-trainable params: 0\n",
            "_________________________________________________________________\n"
          ]
        }
      ]
    },
    {
      "cell_type": "code",
      "source": [
        "optimizer = Adam(learning_rate=0.001)\n",
        "model.compile(loss='mean_squared_error', optimizer=optimizer, metrics=['mse'])"
      ],
      "metadata": {
        "id": "iBglZChIid3z"
      },
      "execution_count": null,
      "outputs": []
    },
    {
      "cell_type": "code",
      "source": [
        "early_stopping = EarlyStopping(monitor='val_loss', patience=10, restore_best_weights=True)\n",
        "history = model.fit(X_train, y_train, epochs=100, batch_size=32, validation_data=(X_test, y_test), callbacks=[early_stopping])"
      ],
      "metadata": {
        "id": "mOaEuYfpii4_",
        "colab": {
          "base_uri": "https://localhost:8080/"
        },
        "outputId": "719386f2-8a7d-4932-e2f5-f216f18fb3ec"
      },
      "execution_count": null,
      "outputs": [
        {
          "output_type": "stream",
          "name": "stdout",
          "text": [
            "Epoch 1/100\n",
            "764/764 [==============================] - 2s 2ms/step - loss: 1287.8434 - mse: 1287.8434 - val_loss: 477.8342 - val_mse: 477.8342\n",
            "Epoch 2/100\n",
            "764/764 [==============================] - 2s 2ms/step - loss: 437.6694 - mse: 437.6694 - val_loss: 396.0335 - val_mse: 396.0335\n",
            "Epoch 3/100\n",
            "764/764 [==============================] - 2s 2ms/step - loss: 375.7808 - mse: 375.7808 - val_loss: 362.4558 - val_mse: 362.4558\n",
            "Epoch 4/100\n",
            "764/764 [==============================] - 1s 2ms/step - loss: 343.7027 - mse: 343.7027 - val_loss: 336.7028 - val_mse: 336.7028\n",
            "Epoch 5/100\n",
            "764/764 [==============================] - 2s 2ms/step - loss: 321.7490 - mse: 321.7490 - val_loss: 315.4760 - val_mse: 315.4760\n",
            "Epoch 6/100\n",
            "764/764 [==============================] - 2s 2ms/step - loss: 307.2011 - mse: 307.2011 - val_loss: 306.6441 - val_mse: 306.6441\n",
            "Epoch 7/100\n",
            "764/764 [==============================] - 1s 2ms/step - loss: 296.3094 - mse: 296.3094 - val_loss: 298.8840 - val_mse: 298.8840\n",
            "Epoch 8/100\n",
            "764/764 [==============================] - 1s 2ms/step - loss: 290.9677 - mse: 290.9677 - val_loss: 295.6134 - val_mse: 295.6134\n",
            "Epoch 9/100\n",
            "764/764 [==============================] - 1s 2ms/step - loss: 284.8718 - mse: 284.8718 - val_loss: 314.8753 - val_mse: 314.8753\n",
            "Epoch 10/100\n",
            "764/764 [==============================] - 1s 1ms/step - loss: 281.1939 - mse: 281.1939 - val_loss: 282.9254 - val_mse: 282.9254\n",
            "Epoch 11/100\n",
            "764/764 [==============================] - 1s 2ms/step - loss: 277.6049 - mse: 277.6049 - val_loss: 290.5024 - val_mse: 290.5024\n",
            "Epoch 12/100\n",
            "764/764 [==============================] - 1s 2ms/step - loss: 274.5894 - mse: 274.5894 - val_loss: 284.8113 - val_mse: 284.8113\n",
            "Epoch 13/100\n",
            "764/764 [==============================] - 1s 1ms/step - loss: 271.9204 - mse: 271.9204 - val_loss: 282.6517 - val_mse: 282.6517\n",
            "Epoch 14/100\n",
            "764/764 [==============================] - 1s 2ms/step - loss: 269.6877 - mse: 269.6877 - val_loss: 282.0815 - val_mse: 282.0815\n",
            "Epoch 15/100\n",
            "764/764 [==============================] - 2s 2ms/step - loss: 265.5448 - mse: 265.5448 - val_loss: 287.6729 - val_mse: 287.6729\n",
            "Epoch 16/100\n",
            "764/764 [==============================] - 1s 2ms/step - loss: 265.7015 - mse: 265.7015 - val_loss: 276.8076 - val_mse: 276.8076\n",
            "Epoch 17/100\n",
            "764/764 [==============================] - 1s 2ms/step - loss: 262.3725 - mse: 262.3725 - val_loss: 276.2047 - val_mse: 276.2047\n",
            "Epoch 18/100\n",
            "764/764 [==============================] - 1s 2ms/step - loss: 262.6353 - mse: 262.6353 - val_loss: 275.8495 - val_mse: 275.8495\n",
            "Epoch 19/100\n",
            "764/764 [==============================] - 1s 2ms/step - loss: 261.1735 - mse: 261.1735 - val_loss: 277.6434 - val_mse: 277.6434\n",
            "Epoch 20/100\n",
            "764/764 [==============================] - 1s 2ms/step - loss: 258.2764 - mse: 258.2764 - val_loss: 279.7317 - val_mse: 279.7317\n",
            "Epoch 21/100\n",
            "764/764 [==============================] - 1s 2ms/step - loss: 257.1435 - mse: 257.1435 - val_loss: 274.9241 - val_mse: 274.9241\n",
            "Epoch 22/100\n",
            "764/764 [==============================] - 1s 2ms/step - loss: 256.2469 - mse: 256.2469 - val_loss: 277.7852 - val_mse: 277.7852\n",
            "Epoch 23/100\n",
            "764/764 [==============================] - 1s 2ms/step - loss: 255.3036 - mse: 255.3036 - val_loss: 282.1704 - val_mse: 282.1704\n",
            "Epoch 24/100\n",
            "764/764 [==============================] - 2s 2ms/step - loss: 252.2228 - mse: 252.2228 - val_loss: 271.0708 - val_mse: 271.0708\n",
            "Epoch 25/100\n",
            "764/764 [==============================] - 1s 2ms/step - loss: 252.2719 - mse: 252.2719 - val_loss: 275.3859 - val_mse: 275.3859\n",
            "Epoch 26/100\n",
            "764/764 [==============================] - 1s 2ms/step - loss: 249.7396 - mse: 249.7396 - val_loss: 277.0602 - val_mse: 277.0602\n",
            "Epoch 27/100\n",
            "764/764 [==============================] - 1s 2ms/step - loss: 248.6201 - mse: 248.6201 - val_loss: 276.6280 - val_mse: 276.6280\n",
            "Epoch 28/100\n",
            "764/764 [==============================] - 1s 2ms/step - loss: 246.5911 - mse: 246.5911 - val_loss: 279.2712 - val_mse: 279.2712\n",
            "Epoch 29/100\n",
            "764/764 [==============================] - 1s 2ms/step - loss: 245.2057 - mse: 245.2057 - val_loss: 268.6385 - val_mse: 268.6385\n",
            "Epoch 30/100\n",
            "764/764 [==============================] - 1s 1ms/step - loss: 245.9888 - mse: 245.9888 - val_loss: 288.4628 - val_mse: 288.4628\n",
            "Epoch 31/100\n",
            "764/764 [==============================] - 1s 2ms/step - loss: 243.0123 - mse: 243.0123 - val_loss: 284.8214 - val_mse: 284.8214\n",
            "Epoch 32/100\n",
            "764/764 [==============================] - 1s 1ms/step - loss: 240.9996 - mse: 240.9996 - val_loss: 272.5014 - val_mse: 272.5014\n",
            "Epoch 33/100\n",
            "764/764 [==============================] - 1s 2ms/step - loss: 239.5899 - mse: 239.5899 - val_loss: 269.3984 - val_mse: 269.3984\n",
            "Epoch 34/100\n",
            "764/764 [==============================] - 1s 2ms/step - loss: 239.4998 - mse: 239.4998 - val_loss: 269.6053 - val_mse: 269.6053\n",
            "Epoch 35/100\n",
            "764/764 [==============================] - 1s 2ms/step - loss: 237.9719 - mse: 237.9719 - val_loss: 267.3264 - val_mse: 267.3264\n",
            "Epoch 36/100\n",
            "764/764 [==============================] - 1s 2ms/step - loss: 235.9628 - mse: 235.9628 - val_loss: 267.4503 - val_mse: 267.4503\n",
            "Epoch 37/100\n",
            "764/764 [==============================] - 1s 2ms/step - loss: 234.7645 - mse: 234.7645 - val_loss: 279.5916 - val_mse: 279.5916\n",
            "Epoch 38/100\n",
            "764/764 [==============================] - 1s 2ms/step - loss: 235.8708 - mse: 235.8708 - val_loss: 267.7151 - val_mse: 267.7151\n",
            "Epoch 39/100\n",
            "764/764 [==============================] - 1s 1ms/step - loss: 232.3364 - mse: 232.3364 - val_loss: 269.7409 - val_mse: 269.7409\n",
            "Epoch 40/100\n",
            "764/764 [==============================] - 1s 1ms/step - loss: 232.6885 - mse: 232.6885 - val_loss: 270.5410 - val_mse: 270.5410\n",
            "Epoch 41/100\n",
            "764/764 [==============================] - 1s 2ms/step - loss: 229.2712 - mse: 229.2712 - val_loss: 269.2220 - val_mse: 269.2220\n",
            "Epoch 42/100\n",
            "764/764 [==============================] - 1s 2ms/step - loss: 232.0437 - mse: 232.0437 - val_loss: 266.5972 - val_mse: 266.5972\n",
            "Epoch 43/100\n",
            "764/764 [==============================] - 2s 2ms/step - loss: 229.9572 - mse: 229.9572 - val_loss: 266.6936 - val_mse: 266.6936\n",
            "Epoch 44/100\n",
            "764/764 [==============================] - 1s 2ms/step - loss: 230.2359 - mse: 230.2359 - val_loss: 271.1812 - val_mse: 271.1812\n",
            "Epoch 45/100\n",
            "764/764 [==============================] - 1s 1ms/step - loss: 226.1876 - mse: 226.1876 - val_loss: 277.7009 - val_mse: 277.7009\n",
            "Epoch 46/100\n",
            "764/764 [==============================] - 1s 2ms/step - loss: 226.6344 - mse: 226.6344 - val_loss: 267.2885 - val_mse: 267.2885\n",
            "Epoch 47/100\n",
            "764/764 [==============================] - 1s 2ms/step - loss: 226.1074 - mse: 226.1074 - val_loss: 286.7227 - val_mse: 286.7227\n",
            "Epoch 48/100\n",
            "764/764 [==============================] - 1s 2ms/step - loss: 224.4843 - mse: 224.4843 - val_loss: 268.6488 - val_mse: 268.6488\n",
            "Epoch 49/100\n",
            "764/764 [==============================] - 1s 1ms/step - loss: 222.9118 - mse: 222.9118 - val_loss: 272.3114 - val_mse: 272.3114\n",
            "Epoch 50/100\n",
            "764/764 [==============================] - 1s 2ms/step - loss: 223.6680 - mse: 223.6680 - val_loss: 268.4504 - val_mse: 268.4504\n",
            "Epoch 51/100\n",
            "764/764 [==============================] - 1s 2ms/step - loss: 221.0441 - mse: 221.0441 - val_loss: 268.3370 - val_mse: 268.3370\n",
            "Epoch 52/100\n",
            "764/764 [==============================] - 2s 2ms/step - loss: 221.0414 - mse: 221.0414 - val_loss: 265.6947 - val_mse: 265.6947\n",
            "Epoch 53/100\n",
            "764/764 [==============================] - 1s 2ms/step - loss: 219.7509 - mse: 219.7509 - val_loss: 266.2760 - val_mse: 266.2760\n",
            "Epoch 54/100\n",
            "764/764 [==============================] - 1s 1ms/step - loss: 217.9991 - mse: 217.9991 - val_loss: 259.6089 - val_mse: 259.6089\n",
            "Epoch 55/100\n",
            "764/764 [==============================] - 1s 2ms/step - loss: 217.0829 - mse: 217.0829 - val_loss: 265.9508 - val_mse: 265.9508\n",
            "Epoch 56/100\n",
            "764/764 [==============================] - 1s 2ms/step - loss: 219.4194 - mse: 219.4194 - val_loss: 272.3116 - val_mse: 272.3116\n",
            "Epoch 57/100\n",
            "764/764 [==============================] - 1s 2ms/step - loss: 212.0300 - mse: 212.0300 - val_loss: 276.9084 - val_mse: 276.9084\n",
            "Epoch 58/100\n",
            "764/764 [==============================] - 1s 2ms/step - loss: 217.2818 - mse: 217.2818 - val_loss: 263.7497 - val_mse: 263.7497\n",
            "Epoch 59/100\n",
            "764/764 [==============================] - 1s 2ms/step - loss: 214.5966 - mse: 214.5966 - val_loss: 264.3428 - val_mse: 264.3428\n",
            "Epoch 60/100\n",
            "764/764 [==============================] - 1s 2ms/step - loss: 212.0085 - mse: 212.0085 - val_loss: 266.0743 - val_mse: 266.0743\n",
            "Epoch 61/100\n",
            "764/764 [==============================] - 1s 2ms/step - loss: 212.3238 - mse: 212.3238 - val_loss: 264.4015 - val_mse: 264.4015\n",
            "Epoch 62/100\n",
            "764/764 [==============================] - 2s 2ms/step - loss: 211.7083 - mse: 211.7083 - val_loss: 289.2855 - val_mse: 289.2855\n",
            "Epoch 63/100\n",
            "764/764 [==============================] - 1s 2ms/step - loss: 209.9683 - mse: 209.9683 - val_loss: 267.6298 - val_mse: 267.6298\n",
            "Epoch 64/100\n",
            "764/764 [==============================] - 1s 2ms/step - loss: 209.5536 - mse: 209.5536 - val_loss: 270.4398 - val_mse: 270.4398\n"
          ]
        }
      ]
    },
    {
      "cell_type": "code",
      "source": [
        "import matplotlib.pyplot as plt\n",
        "plt.plot(history.history['mse'], label='train')\n",
        "plt.plot(history.history['val_mse'], label='test')\n",
        "plt.legend()\n",
        "plt.show()"
      ],
      "metadata": {
        "colab": {
          "base_uri": "https://localhost:8080/",
          "height": 430
        },
        "id": "17VotgXWkk2w",
        "outputId": "84547419-4a8a-4013-c62a-96a9c39f9f31"
      },
      "execution_count": null,
      "outputs": [
        {
          "output_type": "display_data",
          "data": {
            "text/plain": [
              "<Figure size 640x480 with 1 Axes>"
            ],
            "image/png": "[encoded data removed]"
          },
          "metadata": {}
        }
      ]
    },
    {
      "cell_type": "code",
      "source": [
        "from sklearn.metrics import mean_squared_error, r2_score\n",
        "y_pred = model.predict(X_test)\n",
        "mse = mean_squared_error(y_test, y_pred)\n",
        "rmse = np.sqrt(mse)\n",
        "r2 = r2_score(y_test, y_pred)\n",
        "\n",
        "print('RMSE:', rmse)\n",
        "print('R^2:', r2)"
      ],
      "metadata": {
        "colab": {
          "base_uri": "https://localhost:8080/"
        },
        "id": "7AhXeoExktvP",
        "outputId": "67583f2d-7cda-4951-bd99-46f2cc4110eb"
      },
      "execution_count": null,
      "outputs": [
        {
          "output_type": "stream",
          "name": "stdout",
          "text": [
            "191/191 [==============================] - 0s 928us/step\n",
            "RMSE: 16.11238266514447\n",
            "R^2: 0.8839107387326971\n"
          ]
        }
      ]
    },
    {
      "cell_type": "code",
      "source": [
        "pip install scikeras"
      ],
      "metadata": {
        "colab": {
          "base_uri": "https://localhost:8080/"
        },
        "id": "Rt3NElF4p-a-",
        "outputId": "9ffbacbf-b11e-4065-e997-70becdc2c56b"
      },
      "execution_count": null,
      "outputs": [
        {
          "output_type": "stream",
          "name": "stdout",
          "text": [
            "Looking in indexes: https://pypi.org/simple, https://us-python.pkg.dev/colab-wheels/public/simple/\n",
            "Collecting scikeras\n",
            "  Downloading scikeras-0.10.0-py3-none-any.whl (27 kB)\n",
            "Requirement already satisfied: scikit-learn>=1.0.0 in /usr/local/lib/python3.9/dist-packages (from scikeras) (1.2.2)\n",
            "Requirement already satisfied: packaging>=0.21 in /usr/local/lib/python3.9/dist-packages (from scikeras) (23.0)\n",
            "Requirement already satisfied: scipy>=1.3.2 in /usr/local/lib/python3.9/dist-packages (from scikit-learn>=1.0.0->scikeras) (1.10.1)\n",
            "Requirement already satisfied: threadpoolctl>=2.0.0 in /usr/local/lib/python3.9/dist-packages (from scikit-learn>=1.0.0->scikeras) (3.1.0)\n",
            "Requirement already satisfied: joblib>=1.1.1 in /usr/local/lib/python3.9/dist-packages (from scikit-learn>=1.0.0->scikeras) (1.2.0)\n",
            "Requirement already satisfied: numpy>=1.17.3 in /usr/local/lib/python3.9/dist-packages (from scikit-learn>=1.0.0->scikeras) (1.22.4)\n",
            "Installing collected packages: scikeras\n",
            "Successfully installed scikeras-0.10.0\n"
          ]
        }
      ]
    },
    {
      "cell_type": "code",
      "source": [
        "from scikeras.wrappers import KerasRegressor\n",
        "from sklearn.model_selection import RandomizedSearchCV\n",
        "from scipy.stats import randint as sp_randint\n",
        "from scipy.stats import uniform as sp_uniform"
      ],
      "metadata": {
        "id": "diCKEWj-ky0j"
      },
      "execution_count": null,
      "outputs": []
    },
    {
      "cell_type": "code",
      "source": [
        "def create_model(hidden_layers, neurons, learning_rate):\n",
        "    model = Sequential()\n",
        "    for i in range(hidden_layers):\n",
        "        model.add(Dense(neurons, input_shape=(X_train.shape[1],), activation='relu'))\n",
        "    model.add(Dense(1))\n",
        "    optimizer = Adam(learning_rate=learning_rate)\n",
        "    model.compile(loss='mean_squared_error', optimizer=optimizer, metrics=['mse'])\n",
        "    return model"
      ],
      "metadata": {
        "id": "oYsEJjhBlJhr"
      },
      "execution_count": null,
      "outputs": []
    },
    {
      "cell_type": "code",
      "source": [
        "estimator.get_params().keys()"
      ],
      "metadata": {
        "id": "MH2QGvdltgcH",
        "outputId": "bbf1a066-e2ab-4369-a4d1-a41aeb00811d",
        "colab": {
          "base_uri": "https://localhost:8080/",
          "height": 165
        }
      },
      "execution_count": null,
      "outputs": [
        {
          "output_type": "error",
          "ename": "NameError",
          "evalue": "ignored",
          "traceback": [
            "\u001b[0;31m---------------------------------------------------------------------------\u001b[0m",
            "\u001b[0;31mNameError\u001b[0m                                 Traceback (most recent call last)",
            "\u001b[0;32m<ipython-input-41-162ad3ecc5c0>\u001b[0m in \u001b[0;36m<cell line: 1>\u001b[0;34m()\u001b[0m\n\u001b[0;32m----> 1\u001b[0;31m \u001b[0mestimator\u001b[0m\u001b[0;34m.\u001b[0m\u001b[0mget_params\u001b[0m\u001b[0;34m(\u001b[0m\u001b[0;34m)\u001b[0m\u001b[0;34m.\u001b[0m\u001b[0mkeys\u001b[0m\u001b[0;34m(\u001b[0m\u001b[0;34m)\u001b[0m\u001b[0;34m\u001b[0m\u001b[0;34m\u001b[0m\u001b[0m\n\u001b[0m",
            "\u001b[0;31mNameError\u001b[0m: name 'estimator' is not defined"
          ]
        }
      ]
    },
    {
      "cell_type": "code",
      "source": [
        "model = KerasRegressor(build_fn=create_model, verbose=0)\n",
        "\n",
        "param_dist = {'hidden_layers': sp_randint(2, 5),\n",
        "              'neurons': sp_randint(32, 256),\n",
        "              'learning_rate': sp_uniform(0.001, 0.1)}\n",
        "\n",
        "n_iter_search = 20\n",
        "random_search = RandomizedSearchCV(estimator=model, param_distributions=param_dist,\n",
        "                                   n_iter=n_iter_search, cv=3, verbose=2, n_jobs=-1)\n",
        "random_search_result = random_search.fit(X_train, y_train)\n",
        "\n",
        "print(f'Best parameters: {random_search_result.best_params_}')"
      ],
      "metadata": {
        "colab": {
          "base_uri": "https://localhost:8080/",
          "height": 449
        },
        "id": "UHYLjADHlNdr",
        "outputId": "54c9bca0-e1d8-4b0f-b6fc-d6787a1be1da"
      },
      "execution_count": null,
      "outputs": [
        {
          "output_type": "stream",
          "name": "stdout",
          "text": [
            "Fitting 3 folds for each of 20 candidates, totalling 60 fits\n"
          ]
        },
        {
          "output_type": "error",
          "ename": "ValueError",
          "evalue": "ignored",
          "traceback": [
            "\u001b[0;31m---------------------------------------------------------------------------\u001b[0m",
            "\u001b[0;31mValueError\u001b[0m                                Traceback (most recent call last)",
            "\u001b[0;32m<ipython-input-39-c30d881d3fb7>\u001b[0m in \u001b[0;36m<cell line: 10>\u001b[0;34m()\u001b[0m\n\u001b[1;32m      8\u001b[0m random_search = RandomizedSearchCV(estimator=model, param_distributions=param_dist,\n\u001b[1;32m      9\u001b[0m                                    n_iter=n_iter_search, cv=3, verbose=2, n_jobs=-1)\n\u001b[0;32m---> 10\u001b[0;31m \u001b[0mrandom_search_result\u001b[0m \u001b[0;34m=\u001b[0m \u001b[0mrandom_search\u001b[0m\u001b[0;34m.\u001b[0m\u001b[0mfit\u001b[0m\u001b[0;34m(\u001b[0m\u001b[0mX_train\u001b[0m\u001b[0;34m,\u001b[0m \u001b[0my_train\u001b[0m\u001b[0;34m)\u001b[0m\u001b[0;34m\u001b[0m\u001b[0;34m\u001b[0m\u001b[0m\n\u001b[0m\u001b[1;32m     11\u001b[0m \u001b[0;34m\u001b[0m\u001b[0m\n\u001b[1;32m     12\u001b[0m \u001b[0mprint\u001b[0m\u001b[0;34m(\u001b[0m\u001b[0;34mf'Best parameters: {random_search_result.best_params_}'\u001b[0m\u001b[0;34m)\u001b[0m\u001b[0;34m\u001b[0m\u001b[0;34m\u001b[0m\u001b[0m\n",
            "\u001b[0;32m/usr/local/lib/python3.9/dist-packages/sklearn/model_selection/_search.py\u001b[0m in \u001b[0;36mfit\u001b[0;34m(self, X, y, groups, **fit_params)\u001b[0m\n\u001b[1;32m    872\u001b[0m                 \u001b[0;32mreturn\u001b[0m \u001b[0mresults\u001b[0m\u001b[0;34m\u001b[0m\u001b[0;34m\u001b[0m\u001b[0m\n\u001b[1;32m    873\u001b[0m \u001b[0;34m\u001b[0m\u001b[0m\n\u001b[0;32m--> 874\u001b[0;31m             \u001b[0mself\u001b[0m\u001b[0;34m.\u001b[0m\u001b[0m_run_search\u001b[0m\u001b[0;34m(\u001b[0m\u001b[0mevaluate_candidates\u001b[0m\u001b[0;34m)\u001b[0m\u001b[0;34m\u001b[0m\u001b[0;34m\u001b[0m\u001b[0m\n\u001b[0m\u001b[1;32m    875\u001b[0m \u001b[0;34m\u001b[0m\u001b[0m\n\u001b[1;32m    876\u001b[0m             \u001b[0;31m# multimetric is determined here because in the case of a callable\u001b[0m\u001b[0;34m\u001b[0m\u001b[0;34m\u001b[0m\u001b[0m\n",
            "\u001b[0;32m/usr/local/lib/python3.9/dist-packages/sklearn/model_selection/_search.py\u001b[0m in \u001b[0;36m_run_search\u001b[0;34m(self, evaluate_candidates)\u001b[0m\n\u001b[1;32m   1766\u001b[0m     \u001b[0;32mdef\u001b[0m \u001b[0m_run_search\u001b[0m\u001b[0;34m(\u001b[0m\u001b[0mself\u001b[0m\u001b[0;34m,\u001b[0m \u001b[0mevaluate_candidates\u001b[0m\u001b[0;34m)\u001b[0m\u001b[0;34m:\u001b[0m\u001b[0;34m\u001b[0m\u001b[0;34m\u001b[0m\u001b[0m\n\u001b[1;32m   1767\u001b[0m         \u001b[0;34m\"\"\"Search n_iter candidates from param_distributions\"\"\"\u001b[0m\u001b[0;34m\u001b[0m\u001b[0;34m\u001b[0m\u001b[0m\n\u001b[0;32m-> 1768\u001b[0;31m         evaluate_candidates(\n\u001b[0m\u001b[1;32m   1769\u001b[0m             ParameterSampler(\n\u001b[1;32m   1770\u001b[0m                 \u001b[0mself\u001b[0m\u001b[0;34m.\u001b[0m\u001b[0mparam_distributions\u001b[0m\u001b[0;34m,\u001b[0m \u001b[0mself\u001b[0m\u001b[0;34m.\u001b[0m\u001b[0mn_iter\u001b[0m\u001b[0;34m,\u001b[0m \u001b[0mrandom_state\u001b[0m\u001b[0;34m=\u001b[0m\u001b[0mself\u001b[0m\u001b[0;34m.\u001b[0m\u001b[0mrandom_state\u001b[0m\u001b[0;34m\u001b[0m\u001b[0;34m\u001b[0m\u001b[0m\n",
            "\u001b[0;32m/usr/local/lib/python3.9/dist-packages/sklearn/model_selection/_search.py\u001b[0m in \u001b[0;36mevaluate_candidates\u001b[0;34m(candidate_params, cv, more_results)\u001b[0m\n\u001b[1;32m    819\u001b[0m                     )\n\u001b[1;32m    820\u001b[0m \u001b[0;34m\u001b[0m\u001b[0m\n\u001b[0;32m--> 821\u001b[0;31m                 out = parallel(\n\u001b[0m\u001b[1;32m    822\u001b[0m                     delayed(_fit_and_score)(\n\u001b[1;32m    823\u001b[0m                         \u001b[0mclone\u001b[0m\u001b[0;34m(\u001b[0m\u001b[0mbase_estimator\u001b[0m\u001b[0;34m)\u001b[0m\u001b[0;34m,\u001b[0m\u001b[0;34m\u001b[0m\u001b[0;34m\u001b[0m\u001b[0m\n",
            "\u001b[0;32m/usr/local/lib/python3.9/dist-packages/sklearn/utils/parallel.py\u001b[0m in \u001b[0;36m__call__\u001b[0;34m(self, iterable)\u001b[0m\n\u001b[1;32m     61\u001b[0m             \u001b[0;32mfor\u001b[0m \u001b[0mdelayed_func\u001b[0m\u001b[0;34m,\u001b[0m \u001b[0margs\u001b[0m\u001b[0;34m,\u001b[0m \u001b[0mkwargs\u001b[0m \u001b[0;32min\u001b[0m \u001b[0miterable\u001b[0m\u001b[0;34m\u001b[0m\u001b[0;34m\u001b[0m\u001b[0m\n\u001b[1;32m     62\u001b[0m         )\n\u001b[0;32m---> 63\u001b[0;31m         \u001b[0;32mreturn\u001b[0m \u001b[0msuper\u001b[0m\u001b[0;34m(\u001b[0m\u001b[0;34m)\u001b[0m\u001b[0;34m.\u001b[0m\u001b[0m__call__\u001b[0m\u001b[0;34m(\u001b[0m\u001b[0miterable_with_config\u001b[0m\u001b[0;34m)\u001b[0m\u001b[0;34m\u001b[0m\u001b[0;34m\u001b[0m\u001b[0m\n\u001b[0m\u001b[1;32m     64\u001b[0m \u001b[0;34m\u001b[0m\u001b[0m\n\u001b[1;32m     65\u001b[0m \u001b[0;34m\u001b[0m\u001b[0m\n",
            "\u001b[0;32m/usr/local/lib/python3.9/dist-packages/joblib/parallel.py\u001b[0m in \u001b[0;36m__call__\u001b[0;34m(self, iterable)\u001b[0m\n\u001b[1;32m   1096\u001b[0m \u001b[0;34m\u001b[0m\u001b[0m\n\u001b[1;32m   1097\u001b[0m             \u001b[0;32mwith\u001b[0m \u001b[0mself\u001b[0m\u001b[0;34m.\u001b[0m\u001b[0m_backend\u001b[0m\u001b[0;34m.\u001b[0m\u001b[0mretrieval_context\u001b[0m\u001b[0;34m(\u001b[0m\u001b[0;34m)\u001b[0m\u001b[0;34m:\u001b[0m\u001b[0;34m\u001b[0m\u001b[0;34m\u001b[0m\u001b[0m\n\u001b[0;32m-> 1098\u001b[0;31m                 \u001b[0mself\u001b[0m\u001b[0;34m.\u001b[0m\u001b[0mretrieve\u001b[0m\u001b[0;34m(\u001b[0m\u001b[0;34m)\u001b[0m\u001b[0;34m\u001b[0m\u001b[0;34m\u001b[0m\u001b[0m\n\u001b[0m\u001b[1;32m   1099\u001b[0m             \u001b[0;31m# Make sure that we get a last message telling us we are done\u001b[0m\u001b[0;34m\u001b[0m\u001b[0;34m\u001b[0m\u001b[0m\n\u001b[1;32m   1100\u001b[0m             \u001b[0melapsed_time\u001b[0m \u001b[0;34m=\u001b[0m \u001b[0mtime\u001b[0m\u001b[0;34m.\u001b[0m\u001b[0mtime\u001b[0m\u001b[0;34m(\u001b[0m\u001b[0;34m)\u001b[0m \u001b[0;34m-\u001b[0m \u001b[0mself\u001b[0m\u001b[0;34m.\u001b[0m\u001b[0m_start_time\u001b[0m\u001b[0;34m\u001b[0m\u001b[0;34m\u001b[0m\u001b[0m\n",
            "\u001b[0;32m/usr/local/lib/python3.9/dist-packages/joblib/parallel.py\u001b[0m in \u001b[0;36mretrieve\u001b[0;34m(self)\u001b[0m\n\u001b[1;32m    973\u001b[0m             \u001b[0;32mtry\u001b[0m\u001b[0;34m:\u001b[0m\u001b[0;34m\u001b[0m\u001b[0;34m\u001b[0m\u001b[0m\n\u001b[1;32m    974\u001b[0m                 \u001b[0;32mif\u001b[0m \u001b[0mgetattr\u001b[0m\u001b[0;34m(\u001b[0m\u001b[0mself\u001b[0m\u001b[0;34m.\u001b[0m\u001b[0m_backend\u001b[0m\u001b[0;34m,\u001b[0m \u001b[0;34m'supports_timeout'\u001b[0m\u001b[0;34m,\u001b[0m \u001b[0;32mFalse\u001b[0m\u001b[0;34m)\u001b[0m\u001b[0;34m:\u001b[0m\u001b[0;34m\u001b[0m\u001b[0;34m\u001b[0m\u001b[0m\n\u001b[0;32m--> 975\u001b[0;31m                     \u001b[0mself\u001b[0m\u001b[0;34m.\u001b[0m\u001b[0m_output\u001b[0m\u001b[0;34m.\u001b[0m\u001b[0mextend\u001b[0m\u001b[0;34m(\u001b[0m\u001b[0mjob\u001b[0m\u001b[0;34m.\u001b[0m\u001b[0mget\u001b[0m\u001b[0;34m(\u001b[0m\u001b[0mtimeout\u001b[0m\u001b[0;34m=\u001b[0m\u001b[0mself\u001b[0m\u001b[0;34m.\u001b[0m\u001b[0mtimeout\u001b[0m\u001b[0;34m)\u001b[0m\u001b[0;34m)\u001b[0m\u001b[0;34m\u001b[0m\u001b[0;34m\u001b[0m\u001b[0m\n\u001b[0m\u001b[1;32m    976\u001b[0m                 \u001b[0;32melse\u001b[0m\u001b[0;34m:\u001b[0m\u001b[0;34m\u001b[0m\u001b[0;34m\u001b[0m\u001b[0m\n\u001b[1;32m    977\u001b[0m                     \u001b[0mself\u001b[0m\u001b[0;34m.\u001b[0m\u001b[0m_output\u001b[0m\u001b[0;34m.\u001b[0m\u001b[0mextend\u001b[0m\u001b[0;34m(\u001b[0m\u001b[0mjob\u001b[0m\u001b[0;34m.\u001b[0m\u001b[0mget\u001b[0m\u001b[0;34m(\u001b[0m\u001b[0;34m)\u001b[0m\u001b[0;34m)\u001b[0m\u001b[0;34m\u001b[0m\u001b[0;34m\u001b[0m\u001b[0m\n",
            "\u001b[0;32m/usr/local/lib/python3.9/dist-packages/joblib/_parallel_backends.py\u001b[0m in \u001b[0;36mwrap_future_result\u001b[0;34m(future, timeout)\u001b[0m\n\u001b[1;32m    565\u001b[0m         AsyncResults.get from multiprocessing.\"\"\"\n\u001b[1;32m    566\u001b[0m         \u001b[0;32mtry\u001b[0m\u001b[0;34m:\u001b[0m\u001b[0;34m\u001b[0m\u001b[0;34m\u001b[0m\u001b[0m\n\u001b[0;32m--> 567\u001b[0;31m             \u001b[0;32mreturn\u001b[0m \u001b[0mfuture\u001b[0m\u001b[0;34m.\u001b[0m\u001b[0mresult\u001b[0m\u001b[0;34m(\u001b[0m\u001b[0mtimeout\u001b[0m\u001b[0;34m=\u001b[0m\u001b[0mtimeout\u001b[0m\u001b[0;34m)\u001b[0m\u001b[0;34m\u001b[0m\u001b[0;34m\u001b[0m\u001b[0m\n\u001b[0m\u001b[1;32m    568\u001b[0m         \u001b[0;32mexcept\u001b[0m \u001b[0mCfTimeoutError\u001b[0m \u001b[0;32mas\u001b[0m \u001b[0me\u001b[0m\u001b[0;34m:\u001b[0m\u001b[0;34m\u001b[0m\u001b[0;34m\u001b[0m\u001b[0m\n\u001b[1;32m    569\u001b[0m             \u001b[0;32mraise\u001b[0m \u001b[0mTimeoutError\u001b[0m \u001b[0;32mfrom\u001b[0m \u001b[0me\u001b[0m\u001b[0;34m\u001b[0m\u001b[0;34m\u001b[0m\u001b[0m\n",
            "\u001b[0;32m/usr/lib/python3.9/concurrent/futures/_base.py\u001b[0m in \u001b[0;36mresult\u001b[0;34m(self, timeout)\u001b[0m\n\u001b[1;32m    444\u001b[0m                     \u001b[0;32mraise\u001b[0m \u001b[0mCancelledError\u001b[0m\u001b[0;34m(\u001b[0m\u001b[0;34m)\u001b[0m\u001b[0;34m\u001b[0m\u001b[0;34m\u001b[0m\u001b[0m\n\u001b[1;32m    445\u001b[0m                 \u001b[0;32melif\u001b[0m \u001b[0mself\u001b[0m\u001b[0;34m.\u001b[0m\u001b[0m_state\u001b[0m \u001b[0;34m==\u001b[0m \u001b[0mFINISHED\u001b[0m\u001b[0;34m:\u001b[0m\u001b[0;34m\u001b[0m\u001b[0;34m\u001b[0m\u001b[0m\n\u001b[0;32m--> 446\u001b[0;31m                     \u001b[0;32mreturn\u001b[0m \u001b[0mself\u001b[0m\u001b[0;34m.\u001b[0m\u001b[0m__get_result\u001b[0m\u001b[0;34m(\u001b[0m\u001b[0;34m)\u001b[0m\u001b[0;34m\u001b[0m\u001b[0;34m\u001b[0m\u001b[0m\n\u001b[0m\u001b[1;32m    447\u001b[0m                 \u001b[0;32melse\u001b[0m\u001b[0;34m:\u001b[0m\u001b[0;34m\u001b[0m\u001b[0;34m\u001b[0m\u001b[0m\n\u001b[1;32m    448\u001b[0m                     \u001b[0;32mraise\u001b[0m \u001b[0mTimeoutError\u001b[0m\u001b[0;34m(\u001b[0m\u001b[0;34m)\u001b[0m\u001b[0;34m\u001b[0m\u001b[0;34m\u001b[0m\u001b[0m\n",
            "\u001b[0;32m/usr/lib/python3.9/concurrent/futures/_base.py\u001b[0m in \u001b[0;36m__get_result\u001b[0;34m(self)\u001b[0m\n\u001b[1;32m    389\u001b[0m         \u001b[0;32mif\u001b[0m \u001b[0mself\u001b[0m\u001b[0;34m.\u001b[0m\u001b[0m_exception\u001b[0m\u001b[0;34m:\u001b[0m\u001b[0;34m\u001b[0m\u001b[0;34m\u001b[0m\u001b[0m\n\u001b[1;32m    390\u001b[0m             \u001b[0;32mtry\u001b[0m\u001b[0;34m:\u001b[0m\u001b[0;34m\u001b[0m\u001b[0;34m\u001b[0m\u001b[0m\n\u001b[0;32m--> 391\u001b[0;31m                 \u001b[0;32mraise\u001b[0m \u001b[0mself\u001b[0m\u001b[0;34m.\u001b[0m\u001b[0m_exception\u001b[0m\u001b[0;34m\u001b[0m\u001b[0;34m\u001b[0m\u001b[0m\n\u001b[0m\u001b[1;32m    392\u001b[0m             \u001b[0;32mfinally\u001b[0m\u001b[0;34m:\u001b[0m\u001b[0;34m\u001b[0m\u001b[0;34m\u001b[0m\u001b[0m\n\u001b[1;32m    393\u001b[0m                 \u001b[0;31m# Break a reference cycle with the exception in self._exception\u001b[0m\u001b[0;34m\u001b[0m\u001b[0;34m\u001b[0m\u001b[0m\n",
            "\u001b[0;31mValueError\u001b[0m: Invalid parameter hidden_layers for estimator KerasRegressor.\nThis issue can likely be resolved by setting this parameter in the KerasRegressor constructor:\n`KerasRegressor(hidden_layers=3)`\nCheck the list of available parameters with `estimator.get_params().keys()`"
          ]
        }
      ]
    },
    {
      "cell_type": "code",
      "source": [
        "best_model = create_model(hidden_layers=random_search_result.best_params_['hidden_layers'],\n",
        "                          neurons=random_search_result.best_params_['neurons'],\n",
        "                          learning_rate=random_search_result.best_params_['learning_rate'])\n",
        "early_stopping = EarlyStopping(monitor='val_loss', patience=10, restore_best_weights=True)\n",
        "history_hy = best_model.fit(X_train, y_train, epochs=100, batch_size=32, validation_data=(X_test, y_test), callbacks=[early_stopping])"
      ],
      "metadata": {
        "colab": {
          "base_uri": "https://localhost:8080/"
        },
        "id": "NmnbEBhxoozy",
        "outputId": "40758a44-f590-47fb-993b-6fcd2096eccd"
      },
      "execution_count": null,
      "outputs": [
        {
          "output_type": "stream",
          "name": "stdout",
          "text": [
            "Epoch 1/100\n",
            "764/764 [==============================] - 2s 2ms/step - loss: 594.2698 - mse: 594.2698 - val_loss: 436.2918 - val_mse: 436.2918\n",
            "Epoch 2/100\n",
            "764/764 [==============================] - 2s 2ms/step - loss: 414.5165 - mse: 414.5165 - val_loss: 330.2338 - val_mse: 330.2338\n",
            "Epoch 3/100\n",
            "764/764 [==============================] - 2s 2ms/step - loss: 358.4985 - mse: 358.4985 - val_loss: 345.2799 - val_mse: 345.2799\n",
            "Epoch 4/100\n",
            "764/764 [==============================] - 2s 2ms/step - loss: 334.6528 - mse: 334.6528 - val_loss: 326.4421 - val_mse: 326.4421\n",
            "Epoch 5/100\n",
            "764/764 [==============================] - 1s 2ms/step - loss: 330.7890 - mse: 330.7890 - val_loss: 319.2127 - val_mse: 319.2127\n",
            "Epoch 6/100\n",
            "764/764 [==============================] - 2s 2ms/step - loss: 298.0362 - mse: 298.0362 - val_loss: 572.0281 - val_mse: 572.0281\n",
            "Epoch 7/100\n",
            "764/764 [==============================] - 2s 2ms/step - loss: 331.9557 - mse: 331.9557 - val_loss: 287.2415 - val_mse: 287.2415\n",
            "Epoch 8/100\n",
            "764/764 [==============================] - 1s 2ms/step - loss: 333.5886 - mse: 333.5886 - val_loss: 291.3752 - val_mse: 291.3752\n",
            "Epoch 9/100\n",
            "764/764 [==============================] - 1s 2ms/step - loss: 300.9714 - mse: 300.9714 - val_loss: 305.6032 - val_mse: 305.6032\n",
            "Epoch 10/100\n",
            "764/764 [==============================] - 2s 3ms/step - loss: 293.8393 - mse: 293.8393 - val_loss: 280.4067 - val_mse: 280.4067\n",
            "Epoch 11/100\n",
            "764/764 [==============================] - 2s 2ms/step - loss: 290.6147 - mse: 290.6147 - val_loss: 293.9860 - val_mse: 293.9860\n",
            "Epoch 12/100\n",
            "764/764 [==============================] - 1s 2ms/step - loss: 289.6759 - mse: 289.6759 - val_loss: 289.7725 - val_mse: 289.7725\n",
            "Epoch 13/100\n",
            "764/764 [==============================] - 1s 2ms/step - loss: 292.6534 - mse: 292.6534 - val_loss: 291.3713 - val_mse: 291.3713\n",
            "Epoch 14/100\n",
            "764/764 [==============================] - 1s 2ms/step - loss: 281.9004 - mse: 281.9004 - val_loss: 307.9815 - val_mse: 307.9815\n",
            "Epoch 15/100\n",
            "764/764 [==============================] - 1s 2ms/step - loss: 276.2058 - mse: 276.2058 - val_loss: 290.9655 - val_mse: 290.9655\n",
            "Epoch 16/100\n",
            "764/764 [==============================] - 2s 2ms/step - loss: 287.8911 - mse: 287.8911 - val_loss: 306.1128 - val_mse: 306.1128\n",
            "Epoch 17/100\n",
            "764/764 [==============================] - 1s 2ms/step - loss: 276.8496 - mse: 276.8496 - val_loss: 297.0438 - val_mse: 297.0438\n",
            "Epoch 18/100\n",
            "764/764 [==============================] - 2s 3ms/step - loss: 295.7792 - mse: 295.7792 - val_loss: 294.8359 - val_mse: 294.8359\n",
            "Epoch 19/100\n",
            "764/764 [==============================] - 2s 2ms/step - loss: 283.6245 - mse: 283.6245 - val_loss: 385.1832 - val_mse: 385.1832\n",
            "Epoch 20/100\n",
            "764/764 [==============================] - 1s 2ms/step - loss: 269.5460 - mse: 269.5460 - val_loss: 263.1872 - val_mse: 263.1872\n",
            "Epoch 21/100\n",
            "764/764 [==============================] - 1s 2ms/step - loss: 272.7683 - mse: 272.7683 - val_loss: 289.9822 - val_mse: 289.9822\n",
            "Epoch 22/100\n",
            "764/764 [==============================] - 1s 2ms/step - loss: 278.7606 - mse: 278.7606 - val_loss: 271.6174 - val_mse: 271.6174\n",
            "Epoch 23/100\n",
            "764/764 [==============================] - 2s 2ms/step - loss: 253.4066 - mse: 253.4066 - val_loss: 300.3048 - val_mse: 300.3048\n",
            "Epoch 24/100\n",
            "764/764 [==============================] - 2s 2ms/step - loss: 282.8681 - mse: 282.8681 - val_loss: 287.3063 - val_mse: 287.3063\n",
            "Epoch 25/100\n",
            "764/764 [==============================] - 2s 2ms/step - loss: 256.2041 - mse: 256.2041 - val_loss: 278.5722 - val_mse: 278.5722\n",
            "Epoch 26/100\n",
            "764/764 [==============================] - 2s 2ms/step - loss: 257.8024 - mse: 257.8024 - val_loss: 281.8245 - val_mse: 281.8245\n",
            "Epoch 27/100\n",
            "764/764 [==============================] - 2s 2ms/step - loss: 251.3748 - mse: 251.3748 - val_loss: 284.7815 - val_mse: 284.7815\n",
            "Epoch 28/100\n",
            "764/764 [==============================] - 1s 2ms/step - loss: 363.8060 - mse: 363.8060 - val_loss: 306.8388 - val_mse: 306.8388\n",
            "Epoch 29/100\n",
            "764/764 [==============================] - 1s 2ms/step - loss: 273.9738 - mse: 273.9738 - val_loss: 296.9633 - val_mse: 296.9633\n",
            "Epoch 30/100\n",
            "764/764 [==============================] - 2s 2ms/step - loss: 268.4749 - mse: 268.4749 - val_loss: 460.9184 - val_mse: 460.9184\n"
          ]
        }
      ]
    },
    {
      "cell_type": "code",
      "source": [
        "y_pred_hy = best_model.predict(X_test)\n",
        "\n",
        "# Calculate the RMSE and R-squared values\n",
        "rmse_hy = np.sqrt(mean_squared_error(y_test, y_pred_hy))\n",
        "r2_hy = r2_score(y_test, y_pred_hy)\n",
        "\n",
        "print('RMSE:', rmse)\n",
        "print('R-squared:', r2_hy)"
      ],
      "metadata": {
        "colab": {
          "base_uri": "https://localhost:8080/"
        },
        "id": "VvUmI4VksAEI",
        "outputId": "fd5a18ee-6552-463a-b75d-f1ca4209e1a2"
      },
      "execution_count": null,
      "outputs": [
        {
          "output_type": "stream",
          "name": "stdout",
          "text": [
            "191/191 [==============================] - 0s 962us/step\n",
            "RMSE: 16.236495588298403\n",
            "R-squared: 0.8823106028952208\n"
          ]
        }
      ]
    }
  ]
}